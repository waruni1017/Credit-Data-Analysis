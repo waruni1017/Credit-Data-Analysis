{
 "cells": [
  {
   "cell_type": "markdown",
   "metadata": {},
   "source": [
    "# Understandig and classifying credit risk\n",
    "## German Credit Data"
   ]
  },
  {
   "cell_type": "markdown",
   "metadata": {},
   "source": [
    "When a bank receives a loan application it is crutial that bank makes a decision whether to approve the loan or not. To do this, banks pay a close attention to the applicant's profile. \n",
    "\n",
    "There are two types of risks involved here: First is that if the applicant has a good credit risk, meaning he/she is likely to repay the loan, then not approving his/her loan application bank will loose a business and a good customer. Secondly, if the applicant has a bad credit risk, meaning he/she is not likely to repay the loan, then approving that application reaults a financial loss for the bank. \n",
    "\n",
    "Hence the bank needs to have a decision rule to decide whether to grant the approval for the loan or not. An applicant's demorgraphic and socio-economic profiles are considered by loan managers before a decision is made.\n",
    "Data is available at UCI Machine Learning Repository. Link is https://archive.ics.uci.edu/ml/datasets/statlog+(german+credit+data)"
   ]
  },
  {
   "cell_type": "markdown",
   "metadata": {},
   "source": [
    "### Objective:\n",
    "- To understand what factors contribute most to good or bad credit risk.\n",
    "- To perform clustering to find any meanningful patterns of loan applicants.\n",
    "- To create a model that predicts the likelihood if a certain loan applicant has a good credit risk or not.\n",
    "\n",
    "The implementation of this model will allow loan managers to make better decisions on loan applications."
   ]
  },
  {
   "cell_type": "code",
   "execution_count": 1,
   "metadata": {},
   "outputs": [],
   "source": [
    "import pandas as pd\n",
    "import numpy as np\n",
    "import seaborn as sns\n",
    "import matplotlib.pyplot as plt\n",
    "%matplotlib inline"
   ]
  },
  {
   "cell_type": "code",
   "execution_count": 2,
   "metadata": {},
   "outputs": [],
   "source": [
    "column_names = [\"status\", \"duration in month\", \"credit history\", \"purpose\", \"credit amount\",\n",
    "                \"savings account/bonds\", \"present employment\", \"Installment rate in percentage of disposable income\",\n",
    "                \"Personal status and sex\", \"Other debtors / guarantors\", \"Present residence since\", \"Property\",\n",
    "                \"Age in years\", \"Other installment plans\", \"Housing\", \"Number of existing credits at this bank\",\n",
    "                \"Job\", \"Number of people being liable to provide maintenance for\", \"Telephone\", \" foreign worker\", \"Risk\"]"
   ]
  },
  {
   "cell_type": "code",
   "execution_count": 3,
   "metadata": {},
   "outputs": [],
   "source": [
    "df = pd.read_csv(\"https://archive.ics.uci.edu/ml/machine-learning-databases/statlog/german/german.data\", sep = ' ', names = column_names)                        "
   ]
  },
  {
   "cell_type": "code",
   "execution_count": 4,
   "metadata": {},
   "outputs": [
    {
     "data": {
      "text/html": [
       "<div>\n",
       "<style scoped>\n",
       "    .dataframe tbody tr th:only-of-type {\n",
       "        vertical-align: middle;\n",
       "    }\n",
       "\n",
       "    .dataframe tbody tr th {\n",
       "        vertical-align: top;\n",
       "    }\n",
       "\n",
       "    .dataframe thead th {\n",
       "        text-align: right;\n",
       "    }\n",
       "</style>\n",
       "<table border=\"1\" class=\"dataframe\">\n",
       "  <thead>\n",
       "    <tr style=\"text-align: right;\">\n",
       "      <th></th>\n",
       "      <th>0</th>\n",
       "      <th>1</th>\n",
       "      <th>2</th>\n",
       "      <th>3</th>\n",
       "      <th>4</th>\n",
       "    </tr>\n",
       "  </thead>\n",
       "  <tbody>\n",
       "    <tr>\n",
       "      <th>status</th>\n",
       "      <td>A11</td>\n",
       "      <td>A12</td>\n",
       "      <td>A14</td>\n",
       "      <td>A11</td>\n",
       "      <td>A11</td>\n",
       "    </tr>\n",
       "    <tr>\n",
       "      <th>duration in month</th>\n",
       "      <td>6</td>\n",
       "      <td>48</td>\n",
       "      <td>12</td>\n",
       "      <td>42</td>\n",
       "      <td>24</td>\n",
       "    </tr>\n",
       "    <tr>\n",
       "      <th>credit history</th>\n",
       "      <td>A34</td>\n",
       "      <td>A32</td>\n",
       "      <td>A34</td>\n",
       "      <td>A32</td>\n",
       "      <td>A33</td>\n",
       "    </tr>\n",
       "    <tr>\n",
       "      <th>purpose</th>\n",
       "      <td>A43</td>\n",
       "      <td>A43</td>\n",
       "      <td>A46</td>\n",
       "      <td>A42</td>\n",
       "      <td>A40</td>\n",
       "    </tr>\n",
       "    <tr>\n",
       "      <th>credit amount</th>\n",
       "      <td>1169</td>\n",
       "      <td>5951</td>\n",
       "      <td>2096</td>\n",
       "      <td>7882</td>\n",
       "      <td>4870</td>\n",
       "    </tr>\n",
       "    <tr>\n",
       "      <th>savings account/bonds</th>\n",
       "      <td>A65</td>\n",
       "      <td>A61</td>\n",
       "      <td>A61</td>\n",
       "      <td>A61</td>\n",
       "      <td>A61</td>\n",
       "    </tr>\n",
       "    <tr>\n",
       "      <th>present employment</th>\n",
       "      <td>A75</td>\n",
       "      <td>A73</td>\n",
       "      <td>A74</td>\n",
       "      <td>A74</td>\n",
       "      <td>A73</td>\n",
       "    </tr>\n",
       "    <tr>\n",
       "      <th>Installment rate in percentage of disposable income</th>\n",
       "      <td>4</td>\n",
       "      <td>2</td>\n",
       "      <td>2</td>\n",
       "      <td>2</td>\n",
       "      <td>3</td>\n",
       "    </tr>\n",
       "    <tr>\n",
       "      <th>Personal status and sex</th>\n",
       "      <td>A93</td>\n",
       "      <td>A92</td>\n",
       "      <td>A93</td>\n",
       "      <td>A93</td>\n",
       "      <td>A93</td>\n",
       "    </tr>\n",
       "    <tr>\n",
       "      <th>Other debtors / guarantors</th>\n",
       "      <td>A101</td>\n",
       "      <td>A101</td>\n",
       "      <td>A101</td>\n",
       "      <td>A103</td>\n",
       "      <td>A101</td>\n",
       "    </tr>\n",
       "    <tr>\n",
       "      <th>Present residence since</th>\n",
       "      <td>4</td>\n",
       "      <td>2</td>\n",
       "      <td>3</td>\n",
       "      <td>4</td>\n",
       "      <td>4</td>\n",
       "    </tr>\n",
       "    <tr>\n",
       "      <th>Property</th>\n",
       "      <td>A121</td>\n",
       "      <td>A121</td>\n",
       "      <td>A121</td>\n",
       "      <td>A122</td>\n",
       "      <td>A124</td>\n",
       "    </tr>\n",
       "    <tr>\n",
       "      <th>Age in years</th>\n",
       "      <td>67</td>\n",
       "      <td>22</td>\n",
       "      <td>49</td>\n",
       "      <td>45</td>\n",
       "      <td>53</td>\n",
       "    </tr>\n",
       "    <tr>\n",
       "      <th>Other installment plans</th>\n",
       "      <td>A143</td>\n",
       "      <td>A143</td>\n",
       "      <td>A143</td>\n",
       "      <td>A143</td>\n",
       "      <td>A143</td>\n",
       "    </tr>\n",
       "    <tr>\n",
       "      <th>Housing</th>\n",
       "      <td>A152</td>\n",
       "      <td>A152</td>\n",
       "      <td>A152</td>\n",
       "      <td>A153</td>\n",
       "      <td>A153</td>\n",
       "    </tr>\n",
       "    <tr>\n",
       "      <th>Number of existing credits at this bank</th>\n",
       "      <td>2</td>\n",
       "      <td>1</td>\n",
       "      <td>1</td>\n",
       "      <td>1</td>\n",
       "      <td>2</td>\n",
       "    </tr>\n",
       "    <tr>\n",
       "      <th>Job</th>\n",
       "      <td>A173</td>\n",
       "      <td>A173</td>\n",
       "      <td>A172</td>\n",
       "      <td>A173</td>\n",
       "      <td>A173</td>\n",
       "    </tr>\n",
       "    <tr>\n",
       "      <th>Number of people being liable to provide maintenance for</th>\n",
       "      <td>1</td>\n",
       "      <td>1</td>\n",
       "      <td>2</td>\n",
       "      <td>2</td>\n",
       "      <td>2</td>\n",
       "    </tr>\n",
       "    <tr>\n",
       "      <th>Telephone</th>\n",
       "      <td>A192</td>\n",
       "      <td>A191</td>\n",
       "      <td>A191</td>\n",
       "      <td>A191</td>\n",
       "      <td>A191</td>\n",
       "    </tr>\n",
       "    <tr>\n",
       "      <th>foreign worker</th>\n",
       "      <td>A201</td>\n",
       "      <td>A201</td>\n",
       "      <td>A201</td>\n",
       "      <td>A201</td>\n",
       "      <td>A201</td>\n",
       "    </tr>\n",
       "    <tr>\n",
       "      <th>Risk</th>\n",
       "      <td>1</td>\n",
       "      <td>2</td>\n",
       "      <td>1</td>\n",
       "      <td>1</td>\n",
       "      <td>2</td>\n",
       "    </tr>\n",
       "  </tbody>\n",
       "</table>\n",
       "</div>"
      ],
      "text/plain": [
       "                                                       0     1     2     3  \\\n",
       "status                                               A11   A12   A14   A11   \n",
       "duration in month                                      6    48    12    42   \n",
       "credit history                                       A34   A32   A34   A32   \n",
       "purpose                                              A43   A43   A46   A42   \n",
       "credit amount                                       1169  5951  2096  7882   \n",
       "savings account/bonds                                A65   A61   A61   A61   \n",
       "present employment                                   A75   A73   A74   A74   \n",
       "Installment rate in percentage of disposable in...     4     2     2     2   \n",
       "Personal status and sex                              A93   A92   A93   A93   \n",
       "Other debtors / guarantors                          A101  A101  A101  A103   \n",
       "Present residence since                                4     2     3     4   \n",
       "Property                                            A121  A121  A121  A122   \n",
       "Age in years                                          67    22    49    45   \n",
       "Other installment plans                             A143  A143  A143  A143   \n",
       "Housing                                             A152  A152  A152  A153   \n",
       "Number of existing credits at this bank                2     1     1     1   \n",
       "Job                                                 A173  A173  A172  A173   \n",
       "Number of people being liable to provide mainte...     1     1     2     2   \n",
       "Telephone                                           A192  A191  A191  A191   \n",
       " foreign worker                                     A201  A201  A201  A201   \n",
       "Risk                                                   1     2     1     1   \n",
       "\n",
       "                                                       4  \n",
       "status                                               A11  \n",
       "duration in month                                     24  \n",
       "credit history                                       A33  \n",
       "purpose                                              A40  \n",
       "credit amount                                       4870  \n",
       "savings account/bonds                                A61  \n",
       "present employment                                   A73  \n",
       "Installment rate in percentage of disposable in...     3  \n",
       "Personal status and sex                              A93  \n",
       "Other debtors / guarantors                          A101  \n",
       "Present residence since                                4  \n",
       "Property                                            A124  \n",
       "Age in years                                          53  \n",
       "Other installment plans                             A143  \n",
       "Housing                                             A153  \n",
       "Number of existing credits at this bank                2  \n",
       "Job                                                 A173  \n",
       "Number of people being liable to provide mainte...     2  \n",
       "Telephone                                           A191  \n",
       " foreign worker                                     A201  \n",
       "Risk                                                   2  "
      ]
     },
     "execution_count": 4,
     "metadata": {},
     "output_type": "execute_result"
    }
   ],
   "source": [
    "df.head().T"
   ]
  },
  {
   "cell_type": "code",
   "execution_count": 5,
   "metadata": {},
   "outputs": [
    {
     "data": {
      "text/plain": [
       "(1000, 21)"
      ]
     },
     "execution_count": 5,
     "metadata": {},
     "output_type": "execute_result"
    }
   ],
   "source": [
    "df.shape"
   ]
  },
  {
   "cell_type": "code",
   "execution_count": 6,
   "metadata": {},
   "outputs": [],
   "source": [
    "df['status'] = df['status'].map({'A11': '< 0 DM', 'A12' : '0 <= . <  200 DM', 'A13' : '>= 200 DM', \n",
    "                                 'A14' : 'no checking account'})\n",
    "df['credit history'] = df['credit history'].map({'A30' : 'no credits taken/all credits paid back duly', \n",
    "                                           'A31' : 'all credits at this bank paid back duly',\n",
    "                                           'A32' : 'existing credits paid back duly till now',\n",
    "                                           'A33' : 'delay in paying off in the past',\n",
    "                                           'A34' : 'critical account/other credits existing (not at this bank)'})\n",
    "df['purpose'] = df['purpose'].map({'A40' : 'car(new)', 'A41' : 'car(used)', 'A42' : 'furniture/equipment',\n",
    "                                   'A43' : 'radio/television', 'A44' : 'domestic appliances', 'A45' : 'repairs',\n",
    "                                   'A46' : 'education', 'A47' : 'vacation', 'A48' : 'retraining', 'A49' : 'business',\n",
    "                                   'A410' : 'others'})\n",
    "df['savings account/bonds'] =df['savings account/bonds'].map({'A61' :'<100 DM', 'A62' : '100<=.<500 DM',\n",
    "                                                       'A63' :'500 <=.< 1000 DM', 'A64' : '>= 1000 DM',\n",
    "                                                       'A65' :'unknown/ no savings account'})\n",
    "df['present employment'] = df['present employment'].map({'A71' : 'unemployed',\n",
    "                                                         'A72' : '< 1 year',\n",
    "                                                         'A73' : '1<=.<4 years',  \n",
    "                                                         'A74' : '4<=.<7 years',\n",
    "                                                         'A75' : '>= 7 years'})\n",
    "df['Sex'] =df['Personal status and sex'].map(lambda x: 'male' if x in ['A91', 'A93', 'A94'] else 'female')\n",
    "df['Other debtors / guarantors'] = df['Other debtors / guarantors'].map({'A101' : 'none', 'A102' : 'co-applicant',\n",
    "                                                                         'A103' : 'guarantor'})\n",
    "df['Property'] = df['Property'].map({'A121' : 'real estate',\n",
    "                                     'A122' : 'if not real estate : building society savings agreement/life insurance', \n",
    "                                     'A123' : 'if not real estate/building society savings agreement, car or other',\n",
    "                                     'A124' : 'unknown / no property'})\n",
    "df['Other installment plans'] = df['Other installment plans'].map({'A141' : 'bank', 'A142' : 'stores', 'A143' : 'none'})\n",
    "df['Housing'] = df['Housing'].map({'A151' : 'rent', 'A152' : 'own', 'A153' : 'for free'})\n",
    "df['Job'] = df['Job'].map({'A171' : 'unemployed/ unskilled  - non-resident', 'A172' : 'unskilled - resident',\n",
    "                           'A173' : 'skilled employee / official', \n",
    "                           'A174' : 'management/ self-employed/highly qualified employee/ officer'})\n",
    "df['Telephone'] = df['Telephone'].map({'A191' : 'none', 'A192' : 'yes, registered under the customers name'})\n",
    "df['Risk'] = df['Risk'].map({1: 'good', 2: 'bad'})\n",
    "\n",
    "df[' foreign worker'] = df[' foreign worker'].map({'A201' : \"yes\", 'A202' : \"no\"})\n"
   ]
  },
  {
   "cell_type": "code",
   "execution_count": 7,
   "metadata": {},
   "outputs": [
    {
     "data": {
      "text/html": [
       "<div>\n",
       "<style scoped>\n",
       "    .dataframe tbody tr th:only-of-type {\n",
       "        vertical-align: middle;\n",
       "    }\n",
       "\n",
       "    .dataframe tbody tr th {\n",
       "        vertical-align: top;\n",
       "    }\n",
       "\n",
       "    .dataframe thead th {\n",
       "        text-align: right;\n",
       "    }\n",
       "</style>\n",
       "<table border=\"1\" class=\"dataframe\">\n",
       "  <thead>\n",
       "    <tr style=\"text-align: right;\">\n",
       "      <th></th>\n",
       "      <th>0</th>\n",
       "      <th>1</th>\n",
       "      <th>2</th>\n",
       "      <th>3</th>\n",
       "      <th>4</th>\n",
       "    </tr>\n",
       "  </thead>\n",
       "  <tbody>\n",
       "    <tr>\n",
       "      <th>status</th>\n",
       "      <td>&lt; 0 DM</td>\n",
       "      <td>0 &lt;= . &lt;  200 DM</td>\n",
       "      <td>no checking account</td>\n",
       "      <td>&lt; 0 DM</td>\n",
       "      <td>&lt; 0 DM</td>\n",
       "    </tr>\n",
       "    <tr>\n",
       "      <th>duration in month</th>\n",
       "      <td>6</td>\n",
       "      <td>48</td>\n",
       "      <td>12</td>\n",
       "      <td>42</td>\n",
       "      <td>24</td>\n",
       "    </tr>\n",
       "    <tr>\n",
       "      <th>credit history</th>\n",
       "      <td>critical account/other credits existing (not a...</td>\n",
       "      <td>existing credits paid back duly till now</td>\n",
       "      <td>critical account/other credits existing (not a...</td>\n",
       "      <td>existing credits paid back duly till now</td>\n",
       "      <td>delay in paying off in the past</td>\n",
       "    </tr>\n",
       "    <tr>\n",
       "      <th>purpose</th>\n",
       "      <td>radio/television</td>\n",
       "      <td>radio/television</td>\n",
       "      <td>education</td>\n",
       "      <td>furniture/equipment</td>\n",
       "      <td>car(new)</td>\n",
       "    </tr>\n",
       "    <tr>\n",
       "      <th>credit amount</th>\n",
       "      <td>1169</td>\n",
       "      <td>5951</td>\n",
       "      <td>2096</td>\n",
       "      <td>7882</td>\n",
       "      <td>4870</td>\n",
       "    </tr>\n",
       "    <tr>\n",
       "      <th>savings account/bonds</th>\n",
       "      <td>unknown/ no savings account</td>\n",
       "      <td>&lt;100 DM</td>\n",
       "      <td>&lt;100 DM</td>\n",
       "      <td>&lt;100 DM</td>\n",
       "      <td>&lt;100 DM</td>\n",
       "    </tr>\n",
       "    <tr>\n",
       "      <th>present employment</th>\n",
       "      <td>&gt;= 7 years</td>\n",
       "      <td>1&lt;=.&lt;4 years</td>\n",
       "      <td>4&lt;=.&lt;7 years</td>\n",
       "      <td>4&lt;=.&lt;7 years</td>\n",
       "      <td>1&lt;=.&lt;4 years</td>\n",
       "    </tr>\n",
       "    <tr>\n",
       "      <th>Installment rate in percentage of disposable income</th>\n",
       "      <td>4</td>\n",
       "      <td>2</td>\n",
       "      <td>2</td>\n",
       "      <td>2</td>\n",
       "      <td>3</td>\n",
       "    </tr>\n",
       "    <tr>\n",
       "      <th>Personal status and sex</th>\n",
       "      <td>A93</td>\n",
       "      <td>A92</td>\n",
       "      <td>A93</td>\n",
       "      <td>A93</td>\n",
       "      <td>A93</td>\n",
       "    </tr>\n",
       "    <tr>\n",
       "      <th>Other debtors / guarantors</th>\n",
       "      <td>none</td>\n",
       "      <td>none</td>\n",
       "      <td>none</td>\n",
       "      <td>guarantor</td>\n",
       "      <td>none</td>\n",
       "    </tr>\n",
       "    <tr>\n",
       "      <th>Present residence since</th>\n",
       "      <td>4</td>\n",
       "      <td>2</td>\n",
       "      <td>3</td>\n",
       "      <td>4</td>\n",
       "      <td>4</td>\n",
       "    </tr>\n",
       "    <tr>\n",
       "      <th>Property</th>\n",
       "      <td>real estate</td>\n",
       "      <td>real estate</td>\n",
       "      <td>real estate</td>\n",
       "      <td>if not real estate : building society savings ...</td>\n",
       "      <td>unknown / no property</td>\n",
       "    </tr>\n",
       "    <tr>\n",
       "      <th>Age in years</th>\n",
       "      <td>67</td>\n",
       "      <td>22</td>\n",
       "      <td>49</td>\n",
       "      <td>45</td>\n",
       "      <td>53</td>\n",
       "    </tr>\n",
       "    <tr>\n",
       "      <th>Other installment plans</th>\n",
       "      <td>none</td>\n",
       "      <td>none</td>\n",
       "      <td>none</td>\n",
       "      <td>none</td>\n",
       "      <td>none</td>\n",
       "    </tr>\n",
       "    <tr>\n",
       "      <th>Housing</th>\n",
       "      <td>own</td>\n",
       "      <td>own</td>\n",
       "      <td>own</td>\n",
       "      <td>for free</td>\n",
       "      <td>for free</td>\n",
       "    </tr>\n",
       "    <tr>\n",
       "      <th>Number of existing credits at this bank</th>\n",
       "      <td>2</td>\n",
       "      <td>1</td>\n",
       "      <td>1</td>\n",
       "      <td>1</td>\n",
       "      <td>2</td>\n",
       "    </tr>\n",
       "    <tr>\n",
       "      <th>Job</th>\n",
       "      <td>skilled employee / official</td>\n",
       "      <td>skilled employee / official</td>\n",
       "      <td>unskilled - resident</td>\n",
       "      <td>skilled employee / official</td>\n",
       "      <td>skilled employee / official</td>\n",
       "    </tr>\n",
       "    <tr>\n",
       "      <th>Number of people being liable to provide maintenance for</th>\n",
       "      <td>1</td>\n",
       "      <td>1</td>\n",
       "      <td>2</td>\n",
       "      <td>2</td>\n",
       "      <td>2</td>\n",
       "    </tr>\n",
       "    <tr>\n",
       "      <th>Telephone</th>\n",
       "      <td>yes, registered under the customers name</td>\n",
       "      <td>none</td>\n",
       "      <td>none</td>\n",
       "      <td>none</td>\n",
       "      <td>none</td>\n",
       "    </tr>\n",
       "    <tr>\n",
       "      <th>foreign worker</th>\n",
       "      <td>yes</td>\n",
       "      <td>yes</td>\n",
       "      <td>yes</td>\n",
       "      <td>yes</td>\n",
       "      <td>yes</td>\n",
       "    </tr>\n",
       "    <tr>\n",
       "      <th>Risk</th>\n",
       "      <td>good</td>\n",
       "      <td>bad</td>\n",
       "      <td>good</td>\n",
       "      <td>good</td>\n",
       "      <td>bad</td>\n",
       "    </tr>\n",
       "    <tr>\n",
       "      <th>Sex</th>\n",
       "      <td>male</td>\n",
       "      <td>female</td>\n",
       "      <td>male</td>\n",
       "      <td>male</td>\n",
       "      <td>male</td>\n",
       "    </tr>\n",
       "  </tbody>\n",
       "</table>\n",
       "</div>"
      ],
      "text/plain": [
       "                                                                                                    0  \\\n",
       "status                                                                                         < 0 DM   \n",
       "duration in month                                                                                   6   \n",
       "credit history                                      critical account/other credits existing (not a...   \n",
       "purpose                                                                              radio/television   \n",
       "credit amount                                                                                    1169   \n",
       "savings account/bonds                                                     unknown/ no savings account   \n",
       "present employment                                                                         >= 7 years   \n",
       "Installment rate in percentage of disposable in...                                                  4   \n",
       "Personal status and sex                                                                           A93   \n",
       "Other debtors / guarantors                                                                       none   \n",
       "Present residence since                                                                             4   \n",
       "Property                                                                                  real estate   \n",
       "Age in years                                                                                       67   \n",
       "Other installment plans                                                                          none   \n",
       "Housing                                                                                           own   \n",
       "Number of existing credits at this bank                                                             2   \n",
       "Job                                                                       skilled employee / official   \n",
       "Number of people being liable to provide mainte...                                                  1   \n",
       "Telephone                                                    yes, registered under the customers name   \n",
       " foreign worker                                                                                   yes   \n",
       "Risk                                                                                             good   \n",
       "Sex                                                                                              male   \n",
       "\n",
       "                                                                                           1  \\\n",
       "status                                                                      0 <= . <  200 DM   \n",
       "duration in month                                                                         48   \n",
       "credit history                                      existing credits paid back duly till now   \n",
       "purpose                                                                     radio/television   \n",
       "credit amount                                                                           5951   \n",
       "savings account/bonds                                                                <100 DM   \n",
       "present employment                                                              1<=.<4 years   \n",
       "Installment rate in percentage of disposable in...                                         2   \n",
       "Personal status and sex                                                                  A92   \n",
       "Other debtors / guarantors                                                              none   \n",
       "Present residence since                                                                    2   \n",
       "Property                                                                         real estate   \n",
       "Age in years                                                                              22   \n",
       "Other installment plans                                                                 none   \n",
       "Housing                                                                                  own   \n",
       "Number of existing credits at this bank                                                    1   \n",
       "Job                                                              skilled employee / official   \n",
       "Number of people being liable to provide mainte...                                         1   \n",
       "Telephone                                                                               none   \n",
       " foreign worker                                                                          yes   \n",
       "Risk                                                                                     bad   \n",
       "Sex                                                                                   female   \n",
       "\n",
       "                                                                                                    2  \\\n",
       "status                                                                            no checking account   \n",
       "duration in month                                                                                  12   \n",
       "credit history                                      critical account/other credits existing (not a...   \n",
       "purpose                                                                                     education   \n",
       "credit amount                                                                                    2096   \n",
       "savings account/bonds                                                                         <100 DM   \n",
       "present employment                                                                       4<=.<7 years   \n",
       "Installment rate in percentage of disposable in...                                                  2   \n",
       "Personal status and sex                                                                           A93   \n",
       "Other debtors / guarantors                                                                       none   \n",
       "Present residence since                                                                             3   \n",
       "Property                                                                                  real estate   \n",
       "Age in years                                                                                       49   \n",
       "Other installment plans                                                                          none   \n",
       "Housing                                                                                           own   \n",
       "Number of existing credits at this bank                                                             1   \n",
       "Job                                                                              unskilled - resident   \n",
       "Number of people being liable to provide mainte...                                                  2   \n",
       "Telephone                                                                                        none   \n",
       " foreign worker                                                                                   yes   \n",
       "Risk                                                                                             good   \n",
       "Sex                                                                                              male   \n",
       "\n",
       "                                                                                                    3  \\\n",
       "status                                                                                         < 0 DM   \n",
       "duration in month                                                                                  42   \n",
       "credit history                                               existing credits paid back duly till now   \n",
       "purpose                                                                           furniture/equipment   \n",
       "credit amount                                                                                    7882   \n",
       "savings account/bonds                                                                         <100 DM   \n",
       "present employment                                                                       4<=.<7 years   \n",
       "Installment rate in percentage of disposable in...                                                  2   \n",
       "Personal status and sex                                                                           A93   \n",
       "Other debtors / guarantors                                                                  guarantor   \n",
       "Present residence since                                                                             4   \n",
       "Property                                            if not real estate : building society savings ...   \n",
       "Age in years                                                                                       45   \n",
       "Other installment plans                                                                          none   \n",
       "Housing                                                                                      for free   \n",
       "Number of existing credits at this bank                                                             1   \n",
       "Job                                                                       skilled employee / official   \n",
       "Number of people being liable to provide mainte...                                                  2   \n",
       "Telephone                                                                                        none   \n",
       " foreign worker                                                                                   yes   \n",
       "Risk                                                                                             good   \n",
       "Sex                                                                                              male   \n",
       "\n",
       "                                                                                  4  \n",
       "status                                                                       < 0 DM  \n",
       "duration in month                                                                24  \n",
       "credit history                                      delay in paying off in the past  \n",
       "purpose                                                                    car(new)  \n",
       "credit amount                                                                  4870  \n",
       "savings account/bonds                                                       <100 DM  \n",
       "present employment                                                     1<=.<4 years  \n",
       "Installment rate in percentage of disposable in...                                3  \n",
       "Personal status and sex                                                         A93  \n",
       "Other debtors / guarantors                                                     none  \n",
       "Present residence since                                                           4  \n",
       "Property                                                      unknown / no property  \n",
       "Age in years                                                                     53  \n",
       "Other installment plans                                                        none  \n",
       "Housing                                                                    for free  \n",
       "Number of existing credits at this bank                                           2  \n",
       "Job                                                     skilled employee / official  \n",
       "Number of people being liable to provide mainte...                                2  \n",
       "Telephone                                                                      none  \n",
       " foreign worker                                                                 yes  \n",
       "Risk                                                                            bad  \n",
       "Sex                                                                            male  "
      ]
     },
     "execution_count": 7,
     "metadata": {},
     "output_type": "execute_result"
    }
   ],
   "source": [
    "df.head().T"
   ]
  },
  {
   "cell_type": "markdown",
   "metadata": {},
   "source": []
  },
  {
   "cell_type": "markdown",
   "metadata": {},
   "source": [
    "In this dataset, we have seven numerical variables and thirteen categorical variables. I decided to remove some of the variable since I believe they are not relevant to this study.\n",
    "\n",
    "### Removed variables:\n",
    "- Personal status\n",
    "- Property\n",
    "- Telephone\n",
    "- foreign worker"
   ]
  },
  {
   "cell_type": "code",
   "execution_count": 8,
   "metadata": {},
   "outputs": [],
   "source": [
    "df = df.drop(['Personal status and sex', 'Property', 'Telephone', ' foreign worker'], axis = 1)"
   ]
  },
  {
   "cell_type": "code",
   "execution_count": 9,
   "metadata": {},
   "outputs": [
    {
     "data": {
      "text/plain": [
       "status                                                      False\n",
       "duration in month                                           False\n",
       "credit history                                              False\n",
       "purpose                                                     False\n",
       "credit amount                                               False\n",
       "savings account/bonds                                       False\n",
       "present employment                                          False\n",
       "Installment rate in percentage of disposable income         False\n",
       "Other debtors / guarantors                                  False\n",
       "Present residence since                                     False\n",
       "Age in years                                                False\n",
       "Other installment plans                                     False\n",
       "Housing                                                     False\n",
       "Number of existing credits at this bank                     False\n",
       "Job                                                         False\n",
       "Number of people being liable to provide maintenance for    False\n",
       "Risk                                                        False\n",
       "Sex                                                         False\n",
       "dtype: bool"
      ]
     },
     "execution_count": 9,
     "metadata": {},
     "output_type": "execute_result"
    }
   ],
   "source": [
    "#check for missing values\n",
    "df.isnull().any()"
   ]
  },
  {
   "cell_type": "code",
   "execution_count": 10,
   "metadata": {},
   "outputs": [
    {
     "data": {
      "text/html": [
       "<div>\n",
       "<style scoped>\n",
       "    .dataframe tbody tr th:only-of-type {\n",
       "        vertical-align: middle;\n",
       "    }\n",
       "\n",
       "    .dataframe tbody tr th {\n",
       "        vertical-align: top;\n",
       "    }\n",
       "\n",
       "    .dataframe thead th {\n",
       "        text-align: right;\n",
       "    }\n",
       "</style>\n",
       "<table border=\"1\" class=\"dataframe\">\n",
       "  <thead>\n",
       "    <tr style=\"text-align: right;\">\n",
       "      <th></th>\n",
       "      <th>0</th>\n",
       "      <th>1</th>\n",
       "      <th>2</th>\n",
       "    </tr>\n",
       "  </thead>\n",
       "  <tbody>\n",
       "    <tr>\n",
       "      <th>status</th>\n",
       "      <td>&lt; 0 DM</td>\n",
       "      <td>0 &lt;= . &lt;  200 DM</td>\n",
       "      <td>no checking account</td>\n",
       "    </tr>\n",
       "    <tr>\n",
       "      <th>duration</th>\n",
       "      <td>6</td>\n",
       "      <td>48</td>\n",
       "      <td>12</td>\n",
       "    </tr>\n",
       "    <tr>\n",
       "      <th>credit_hist</th>\n",
       "      <td>critical account/other credits existing (not a...</td>\n",
       "      <td>existing credits paid back duly till now</td>\n",
       "      <td>critical account/other credits existing (not a...</td>\n",
       "    </tr>\n",
       "    <tr>\n",
       "      <th>purpose</th>\n",
       "      <td>radio/television</td>\n",
       "      <td>radio/television</td>\n",
       "      <td>education</td>\n",
       "    </tr>\n",
       "    <tr>\n",
       "      <th>credit_amount</th>\n",
       "      <td>1169</td>\n",
       "      <td>5951</td>\n",
       "      <td>2096</td>\n",
       "    </tr>\n",
       "    <tr>\n",
       "      <th>savings account/bonds</th>\n",
       "      <td>unknown/ no savings account</td>\n",
       "      <td>&lt;100 DM</td>\n",
       "      <td>&lt;100 DM</td>\n",
       "    </tr>\n",
       "    <tr>\n",
       "      <th>present employment</th>\n",
       "      <td>&gt;= 7 years</td>\n",
       "      <td>1&lt;=.&lt;4 years</td>\n",
       "      <td>4&lt;=.&lt;7 years</td>\n",
       "    </tr>\n",
       "    <tr>\n",
       "      <th>installment_rate</th>\n",
       "      <td>4</td>\n",
       "      <td>2</td>\n",
       "      <td>2</td>\n",
       "    </tr>\n",
       "    <tr>\n",
       "      <th>Other debtors / guarantors</th>\n",
       "      <td>none</td>\n",
       "      <td>none</td>\n",
       "      <td>none</td>\n",
       "    </tr>\n",
       "    <tr>\n",
       "      <th>Present residence since</th>\n",
       "      <td>4</td>\n",
       "      <td>2</td>\n",
       "      <td>3</td>\n",
       "    </tr>\n",
       "    <tr>\n",
       "      <th>Age</th>\n",
       "      <td>67</td>\n",
       "      <td>22</td>\n",
       "      <td>49</td>\n",
       "    </tr>\n",
       "    <tr>\n",
       "      <th>Other installment plans</th>\n",
       "      <td>none</td>\n",
       "      <td>none</td>\n",
       "      <td>none</td>\n",
       "    </tr>\n",
       "    <tr>\n",
       "      <th>Housing</th>\n",
       "      <td>own</td>\n",
       "      <td>own</td>\n",
       "      <td>own</td>\n",
       "    </tr>\n",
       "    <tr>\n",
       "      <th>Number of existing credits at this bank</th>\n",
       "      <td>2</td>\n",
       "      <td>1</td>\n",
       "      <td>1</td>\n",
       "    </tr>\n",
       "    <tr>\n",
       "      <th>Job</th>\n",
       "      <td>skilled employee / official</td>\n",
       "      <td>skilled employee / official</td>\n",
       "      <td>unskilled - resident</td>\n",
       "    </tr>\n",
       "    <tr>\n",
       "      <th>dependents</th>\n",
       "      <td>1</td>\n",
       "      <td>1</td>\n",
       "      <td>2</td>\n",
       "    </tr>\n",
       "    <tr>\n",
       "      <th>Risk</th>\n",
       "      <td>good</td>\n",
       "      <td>bad</td>\n",
       "      <td>good</td>\n",
       "    </tr>\n",
       "    <tr>\n",
       "      <th>Sex</th>\n",
       "      <td>male</td>\n",
       "      <td>female</td>\n",
       "      <td>male</td>\n",
       "    </tr>\n",
       "  </tbody>\n",
       "</table>\n",
       "</div>"
      ],
      "text/plain": [
       "                                                                                         0  \\\n",
       "status                                                                              < 0 DM   \n",
       "duration                                                                                 6   \n",
       "credit_hist                              critical account/other credits existing (not a...   \n",
       "purpose                                                                   radio/television   \n",
       "credit_amount                                                                         1169   \n",
       "savings account/bonds                                          unknown/ no savings account   \n",
       "present employment                                                              >= 7 years   \n",
       "installment_rate                                                                         4   \n",
       "Other debtors / guarantors                                                            none   \n",
       "Present residence since                                                                  4   \n",
       "Age                                                                                     67   \n",
       "Other installment plans                                                               none   \n",
       "Housing                                                                                own   \n",
       "Number of existing credits at this bank                                                  2   \n",
       "Job                                                            skilled employee / official   \n",
       "dependents                                                                               1   \n",
       "Risk                                                                                  good   \n",
       "Sex                                                                                   male   \n",
       "\n",
       "                                                                                1  \\\n",
       "status                                                           0 <= . <  200 DM   \n",
       "duration                                                                       48   \n",
       "credit_hist                              existing credits paid back duly till now   \n",
       "purpose                                                          radio/television   \n",
       "credit_amount                                                                5951   \n",
       "savings account/bonds                                                     <100 DM   \n",
       "present employment                                                   1<=.<4 years   \n",
       "installment_rate                                                                2   \n",
       "Other debtors / guarantors                                                   none   \n",
       "Present residence since                                                         2   \n",
       "Age                                                                            22   \n",
       "Other installment plans                                                      none   \n",
       "Housing                                                                       own   \n",
       "Number of existing credits at this bank                                         1   \n",
       "Job                                                   skilled employee / official   \n",
       "dependents                                                                      1   \n",
       "Risk                                                                          bad   \n",
       "Sex                                                                        female   \n",
       "\n",
       "                                                                                         2  \n",
       "status                                                                 no checking account  \n",
       "duration                                                                                12  \n",
       "credit_hist                              critical account/other credits existing (not a...  \n",
       "purpose                                                                          education  \n",
       "credit_amount                                                                         2096  \n",
       "savings account/bonds                                                              <100 DM  \n",
       "present employment                                                            4<=.<7 years  \n",
       "installment_rate                                                                         2  \n",
       "Other debtors / guarantors                                                            none  \n",
       "Present residence since                                                                  3  \n",
       "Age                                                                                     49  \n",
       "Other installment plans                                                               none  \n",
       "Housing                                                                                own  \n",
       "Number of existing credits at this bank                                                  1  \n",
       "Job                                                                   unskilled - resident  \n",
       "dependents                                                                               2  \n",
       "Risk                                                                                  good  \n",
       "Sex                                                                                   male  "
      ]
     },
     "execution_count": 10,
     "metadata": {},
     "output_type": "execute_result"
    }
   ],
   "source": [
    "#Renaming certain columns for better readability\n",
    "df = df.rename(columns={'duration in month': 'duration', 'credit history': 'credit_hist', 'credit amount': 'credit_amount',\n",
    "                       'Installment rate in percentage of disposable income' : 'installment_rate',\n",
    "                       'Age in years' : 'Age',\n",
    "                       'Number of people being liable to provide maintenance for' : 'dependents'})\n",
    "df.head(3).T"
   ]
  },
  {
   "cell_type": "code",
   "execution_count": 11,
   "metadata": {},
   "outputs": [
    {
     "name": "stdout",
     "output_type": "stream",
     "text": [
      "<class 'pandas.core.frame.DataFrame'>\n",
      "RangeIndex: 1000 entries, 0 to 999\n",
      "Data columns (total 18 columns):\n",
      " #   Column                                   Non-Null Count  Dtype \n",
      "---  ------                                   --------------  ----- \n",
      " 0   status                                   1000 non-null   object\n",
      " 1   duration                                 1000 non-null   int64 \n",
      " 2   credit_hist                              1000 non-null   object\n",
      " 3   purpose                                  1000 non-null   object\n",
      " 4   credit_amount                            1000 non-null   int64 \n",
      " 5   savings account/bonds                    1000 non-null   object\n",
      " 6   present employment                       1000 non-null   object\n",
      " 7   installment_rate                         1000 non-null   int64 \n",
      " 8   Other debtors / guarantors               1000 non-null   object\n",
      " 9   Present residence since                  1000 non-null   int64 \n",
      " 10  Age                                      1000 non-null   int64 \n",
      " 11  Other installment plans                  1000 non-null   object\n",
      " 12  Housing                                  1000 non-null   object\n",
      " 13  Number of existing credits at this bank  1000 non-null   int64 \n",
      " 14  Job                                      1000 non-null   object\n",
      " 15  dependents                               1000 non-null   int64 \n",
      " 16  Risk                                     1000 non-null   object\n",
      " 17  Sex                                      1000 non-null   object\n",
      "dtypes: int64(7), object(11)\n",
      "memory usage: 140.8+ KB\n"
     ]
    }
   ],
   "source": [
    "df.info()"
   ]
  },
  {
   "cell_type": "code",
   "execution_count": 12,
   "metadata": {},
   "outputs": [
    {
     "data": {
      "text/plain": [
       "status                                     object\n",
       "duration                                    int64\n",
       "credit_hist                                object\n",
       "purpose                                    object\n",
       "credit_amount                               int64\n",
       "savings account/bonds                      object\n",
       "present employment                         object\n",
       "installment_rate                            int64\n",
       "Other debtors / guarantors                 object\n",
       "Present residence since                     int64\n",
       "Age                                         int64\n",
       "Other installment plans                    object\n",
       "Housing                                    object\n",
       "Number of existing credits at this bank     int64\n",
       "Job                                        object\n",
       "dependents                                  int64\n",
       "Risk                                       object\n",
       "Sex                                        object\n",
       "dtype: object"
      ]
     },
     "execution_count": 12,
     "metadata": {},
     "output_type": "execute_result"
    }
   ],
   "source": [
    "#check the type of attibutes\n",
    "df.dtypes"
   ]
  },
  {
   "cell_type": "markdown",
   "metadata": {},
   "source": [
    "# Exploratory Data Analysis\n",
    "***"
   ]
  },
  {
   "cell_type": "code",
   "execution_count": 13,
   "metadata": {},
   "outputs": [
    {
     "data": {
      "text/plain": [
       "(1000, 18)"
      ]
     },
     "execution_count": 13,
     "metadata": {},
     "output_type": "execute_result"
    }
   ],
   "source": [
    "# How many loan applications are in the dataset?\n",
    "df.shape"
   ]
  },
  {
   "cell_type": "code",
   "execution_count": 14,
   "metadata": {},
   "outputs": [
    {
     "data": {
      "text/plain": [
       "good    0.7\n",
       "bad     0.3\n",
       "Name: Risk, dtype: float64"
      ]
     },
     "execution_count": 14,
     "metadata": {},
     "output_type": "execute_result"
    }
   ],
   "source": [
    "# what is the rate of risk in the dataset?\n",
    "risk_rate = df.Risk.value_counts()/1000\n",
    "risk_rate"
   ]
  },
  {
   "cell_type": "code",
   "execution_count": 15,
   "metadata": {},
   "outputs": [
    {
     "data": {
      "text/html": [
       "<div>\n",
       "<style scoped>\n",
       "    .dataframe tbody tr th:only-of-type {\n",
       "        vertical-align: middle;\n",
       "    }\n",
       "\n",
       "    .dataframe tbody tr th {\n",
       "        vertical-align: top;\n",
       "    }\n",
       "\n",
       "    .dataframe thead th {\n",
       "        text-align: right;\n",
       "    }\n",
       "</style>\n",
       "<table border=\"1\" class=\"dataframe\">\n",
       "  <thead>\n",
       "    <tr style=\"text-align: right;\">\n",
       "      <th></th>\n",
       "      <th>duration</th>\n",
       "      <th>credit_amount</th>\n",
       "      <th>installment_rate</th>\n",
       "      <th>Present residence since</th>\n",
       "      <th>Age</th>\n",
       "      <th>Number of existing credits at this bank</th>\n",
       "      <th>dependents</th>\n",
       "    </tr>\n",
       "  </thead>\n",
       "  <tbody>\n",
       "    <tr>\n",
       "      <th>count</th>\n",
       "      <td>1000.000000</td>\n",
       "      <td>1000.000000</td>\n",
       "      <td>1000.000000</td>\n",
       "      <td>1000.000000</td>\n",
       "      <td>1000.000000</td>\n",
       "      <td>1000.000000</td>\n",
       "      <td>1000.000000</td>\n",
       "    </tr>\n",
       "    <tr>\n",
       "      <th>mean</th>\n",
       "      <td>20.903000</td>\n",
       "      <td>3271.258000</td>\n",
       "      <td>2.973000</td>\n",
       "      <td>2.845000</td>\n",
       "      <td>35.546000</td>\n",
       "      <td>1.407000</td>\n",
       "      <td>1.155000</td>\n",
       "    </tr>\n",
       "    <tr>\n",
       "      <th>std</th>\n",
       "      <td>12.058814</td>\n",
       "      <td>2822.736876</td>\n",
       "      <td>1.118715</td>\n",
       "      <td>1.103718</td>\n",
       "      <td>11.375469</td>\n",
       "      <td>0.577654</td>\n",
       "      <td>0.362086</td>\n",
       "    </tr>\n",
       "    <tr>\n",
       "      <th>min</th>\n",
       "      <td>4.000000</td>\n",
       "      <td>250.000000</td>\n",
       "      <td>1.000000</td>\n",
       "      <td>1.000000</td>\n",
       "      <td>19.000000</td>\n",
       "      <td>1.000000</td>\n",
       "      <td>1.000000</td>\n",
       "    </tr>\n",
       "    <tr>\n",
       "      <th>25%</th>\n",
       "      <td>12.000000</td>\n",
       "      <td>1365.500000</td>\n",
       "      <td>2.000000</td>\n",
       "      <td>2.000000</td>\n",
       "      <td>27.000000</td>\n",
       "      <td>1.000000</td>\n",
       "      <td>1.000000</td>\n",
       "    </tr>\n",
       "    <tr>\n",
       "      <th>50%</th>\n",
       "      <td>18.000000</td>\n",
       "      <td>2319.500000</td>\n",
       "      <td>3.000000</td>\n",
       "      <td>3.000000</td>\n",
       "      <td>33.000000</td>\n",
       "      <td>1.000000</td>\n",
       "      <td>1.000000</td>\n",
       "    </tr>\n",
       "    <tr>\n",
       "      <th>75%</th>\n",
       "      <td>24.000000</td>\n",
       "      <td>3972.250000</td>\n",
       "      <td>4.000000</td>\n",
       "      <td>4.000000</td>\n",
       "      <td>42.000000</td>\n",
       "      <td>2.000000</td>\n",
       "      <td>1.000000</td>\n",
       "    </tr>\n",
       "    <tr>\n",
       "      <th>max</th>\n",
       "      <td>72.000000</td>\n",
       "      <td>18424.000000</td>\n",
       "      <td>4.000000</td>\n",
       "      <td>4.000000</td>\n",
       "      <td>75.000000</td>\n",
       "      <td>4.000000</td>\n",
       "      <td>2.000000</td>\n",
       "    </tr>\n",
       "  </tbody>\n",
       "</table>\n",
       "</div>"
      ],
      "text/plain": [
       "          duration  credit_amount  installment_rate  Present residence since  \\\n",
       "count  1000.000000    1000.000000       1000.000000              1000.000000   \n",
       "mean     20.903000    3271.258000          2.973000                 2.845000   \n",
       "std      12.058814    2822.736876          1.118715                 1.103718   \n",
       "min       4.000000     250.000000          1.000000                 1.000000   \n",
       "25%      12.000000    1365.500000          2.000000                 2.000000   \n",
       "50%      18.000000    2319.500000          3.000000                 3.000000   \n",
       "75%      24.000000    3972.250000          4.000000                 4.000000   \n",
       "max      72.000000   18424.000000          4.000000                 4.000000   \n",
       "\n",
       "               Age  Number of existing credits at this bank   dependents  \n",
       "count  1000.000000                              1000.000000  1000.000000  \n",
       "mean     35.546000                                 1.407000     1.155000  \n",
       "std      11.375469                                 0.577654     0.362086  \n",
       "min      19.000000                                 1.000000     1.000000  \n",
       "25%      27.000000                                 1.000000     1.000000  \n",
       "50%      33.000000                                 1.000000     1.000000  \n",
       "75%      42.000000                                 2.000000     1.000000  \n",
       "max      75.000000                                 4.000000     2.000000  "
      ]
     },
     "execution_count": 15,
     "metadata": {},
     "output_type": "execute_result"
    }
   ],
   "source": [
    "df.describe()"
   ]
  },
  {
   "cell_type": "code",
   "execution_count": 16,
   "metadata": {},
   "outputs": [
    {
     "data": {
      "text/html": [
       "<div>\n",
       "<style scoped>\n",
       "    .dataframe tbody tr th:only-of-type {\n",
       "        vertical-align: middle;\n",
       "    }\n",
       "\n",
       "    .dataframe tbody tr th {\n",
       "        vertical-align: top;\n",
       "    }\n",
       "\n",
       "    .dataframe thead th {\n",
       "        text-align: right;\n",
       "    }\n",
       "</style>\n",
       "<table border=\"1\" class=\"dataframe\">\n",
       "  <thead>\n",
       "    <tr style=\"text-align: right;\">\n",
       "      <th></th>\n",
       "      <th>count</th>\n",
       "      <th>unique</th>\n",
       "      <th>top</th>\n",
       "      <th>freq</th>\n",
       "    </tr>\n",
       "  </thead>\n",
       "  <tbody>\n",
       "    <tr>\n",
       "      <th>status</th>\n",
       "      <td>1000</td>\n",
       "      <td>4</td>\n",
       "      <td>no checking account</td>\n",
       "      <td>394</td>\n",
       "    </tr>\n",
       "    <tr>\n",
       "      <th>duration</th>\n",
       "      <td>1000</td>\n",
       "      <td>33</td>\n",
       "      <td>24</td>\n",
       "      <td>184</td>\n",
       "    </tr>\n",
       "    <tr>\n",
       "      <th>credit_hist</th>\n",
       "      <td>1000</td>\n",
       "      <td>5</td>\n",
       "      <td>existing credits paid back duly till now</td>\n",
       "      <td>530</td>\n",
       "    </tr>\n",
       "    <tr>\n",
       "      <th>purpose</th>\n",
       "      <td>1000</td>\n",
       "      <td>10</td>\n",
       "      <td>radio/television</td>\n",
       "      <td>280</td>\n",
       "    </tr>\n",
       "    <tr>\n",
       "      <th>credit_amount</th>\n",
       "      <td>1000</td>\n",
       "      <td>921</td>\n",
       "      <td>1478</td>\n",
       "      <td>3</td>\n",
       "    </tr>\n",
       "    <tr>\n",
       "      <th>savings account/bonds</th>\n",
       "      <td>1000</td>\n",
       "      <td>5</td>\n",
       "      <td>&lt;100 DM</td>\n",
       "      <td>603</td>\n",
       "    </tr>\n",
       "    <tr>\n",
       "      <th>present employment</th>\n",
       "      <td>1000</td>\n",
       "      <td>5</td>\n",
       "      <td>1&lt;=.&lt;4 years</td>\n",
       "      <td>339</td>\n",
       "    </tr>\n",
       "    <tr>\n",
       "      <th>installment_rate</th>\n",
       "      <td>1000</td>\n",
       "      <td>4</td>\n",
       "      <td>4</td>\n",
       "      <td>476</td>\n",
       "    </tr>\n",
       "    <tr>\n",
       "      <th>Other debtors / guarantors</th>\n",
       "      <td>1000</td>\n",
       "      <td>3</td>\n",
       "      <td>none</td>\n",
       "      <td>907</td>\n",
       "    </tr>\n",
       "    <tr>\n",
       "      <th>Present residence since</th>\n",
       "      <td>1000</td>\n",
       "      <td>4</td>\n",
       "      <td>4</td>\n",
       "      <td>413</td>\n",
       "    </tr>\n",
       "    <tr>\n",
       "      <th>Age</th>\n",
       "      <td>1000</td>\n",
       "      <td>53</td>\n",
       "      <td>27</td>\n",
       "      <td>51</td>\n",
       "    </tr>\n",
       "    <tr>\n",
       "      <th>Other installment plans</th>\n",
       "      <td>1000</td>\n",
       "      <td>3</td>\n",
       "      <td>none</td>\n",
       "      <td>814</td>\n",
       "    </tr>\n",
       "    <tr>\n",
       "      <th>Housing</th>\n",
       "      <td>1000</td>\n",
       "      <td>3</td>\n",
       "      <td>own</td>\n",
       "      <td>713</td>\n",
       "    </tr>\n",
       "    <tr>\n",
       "      <th>Number of existing credits at this bank</th>\n",
       "      <td>1000</td>\n",
       "      <td>4</td>\n",
       "      <td>1</td>\n",
       "      <td>633</td>\n",
       "    </tr>\n",
       "    <tr>\n",
       "      <th>Job</th>\n",
       "      <td>1000</td>\n",
       "      <td>4</td>\n",
       "      <td>skilled employee / official</td>\n",
       "      <td>630</td>\n",
       "    </tr>\n",
       "    <tr>\n",
       "      <th>dependents</th>\n",
       "      <td>1000</td>\n",
       "      <td>2</td>\n",
       "      <td>1</td>\n",
       "      <td>845</td>\n",
       "    </tr>\n",
       "    <tr>\n",
       "      <th>Risk</th>\n",
       "      <td>1000</td>\n",
       "      <td>2</td>\n",
       "      <td>good</td>\n",
       "      <td>700</td>\n",
       "    </tr>\n",
       "    <tr>\n",
       "      <th>Sex</th>\n",
       "      <td>1000</td>\n",
       "      <td>2</td>\n",
       "      <td>male</td>\n",
       "      <td>690</td>\n",
       "    </tr>\n",
       "  </tbody>\n",
       "</table>\n",
       "</div>"
      ],
      "text/plain": [
       "                                        count unique  \\\n",
       "status                                   1000      4   \n",
       "duration                                 1000     33   \n",
       "credit_hist                              1000      5   \n",
       "purpose                                  1000     10   \n",
       "credit_amount                            1000    921   \n",
       "savings account/bonds                    1000      5   \n",
       "present employment                       1000      5   \n",
       "installment_rate                         1000      4   \n",
       "Other debtors / guarantors               1000      3   \n",
       "Present residence since                  1000      4   \n",
       "Age                                      1000     53   \n",
       "Other installment plans                  1000      3   \n",
       "Housing                                  1000      3   \n",
       "Number of existing credits at this bank  1000      4   \n",
       "Job                                      1000      4   \n",
       "dependents                               1000      2   \n",
       "Risk                                     1000      2   \n",
       "Sex                                      1000      2   \n",
       "\n",
       "                                                                              top  \\\n",
       "status                                                        no checking account   \n",
       "duration                                                                       24   \n",
       "credit_hist                              existing credits paid back duly till now   \n",
       "purpose                                                          radio/television   \n",
       "credit_amount                                                                1478   \n",
       "savings account/bonds                                                     <100 DM   \n",
       "present employment                                                   1<=.<4 years   \n",
       "installment_rate                                                                4   \n",
       "Other debtors / guarantors                                                   none   \n",
       "Present residence since                                                         4   \n",
       "Age                                                                            27   \n",
       "Other installment plans                                                      none   \n",
       "Housing                                                                       own   \n",
       "Number of existing credits at this bank                                         1   \n",
       "Job                                                   skilled employee / official   \n",
       "dependents                                                                      1   \n",
       "Risk                                                                         good   \n",
       "Sex                                                                          male   \n",
       "\n",
       "                                        freq  \n",
       "status                                   394  \n",
       "duration                                 184  \n",
       "credit_hist                              530  \n",
       "purpose                                  280  \n",
       "credit_amount                              3  \n",
       "savings account/bonds                    603  \n",
       "present employment                       339  \n",
       "installment_rate                         476  \n",
       "Other debtors / guarantors               907  \n",
       "Present residence since                  413  \n",
       "Age                                       51  \n",
       "Other installment plans                  814  \n",
       "Housing                                  713  \n",
       "Number of existing credits at this bank  633  \n",
       "Job                                      630  \n",
       "dependents                               845  \n",
       "Risk                                     700  \n",
       "Sex                                      690  "
      ]
     },
     "execution_count": 16,
     "metadata": {},
     "output_type": "execute_result"
    }
   ],
   "source": [
    "df.astype('object').describe().T"
   ]
  },
  {
   "cell_type": "code",
   "execution_count": 17,
   "metadata": {},
   "outputs": [
    {
     "data": {
      "text/html": [
       "<div>\n",
       "<style scoped>\n",
       "    .dataframe tbody tr th:only-of-type {\n",
       "        vertical-align: middle;\n",
       "    }\n",
       "\n",
       "    .dataframe tbody tr th {\n",
       "        vertical-align: top;\n",
       "    }\n",
       "\n",
       "    .dataframe thead th {\n",
       "        text-align: right;\n",
       "    }\n",
       "</style>\n",
       "<table border=\"1\" class=\"dataframe\">\n",
       "  <thead>\n",
       "    <tr style=\"text-align: right;\">\n",
       "      <th></th>\n",
       "      <th>duration</th>\n",
       "      <th>credit_amount</th>\n",
       "      <th>installment_rate</th>\n",
       "      <th>Present residence since</th>\n",
       "      <th>Age</th>\n",
       "      <th>Number of existing credits at this bank</th>\n",
       "      <th>dependents</th>\n",
       "    </tr>\n",
       "    <tr>\n",
       "      <th>Risk</th>\n",
       "      <th></th>\n",
       "      <th></th>\n",
       "      <th></th>\n",
       "      <th></th>\n",
       "      <th></th>\n",
       "      <th></th>\n",
       "      <th></th>\n",
       "    </tr>\n",
       "  </thead>\n",
       "  <tbody>\n",
       "    <tr>\n",
       "      <th>bad</th>\n",
       "      <td>24.860000</td>\n",
       "      <td>3938.126667</td>\n",
       "      <td>3.096667</td>\n",
       "      <td>2.850000</td>\n",
       "      <td>33.963333</td>\n",
       "      <td>1.366667</td>\n",
       "      <td>1.153333</td>\n",
       "    </tr>\n",
       "    <tr>\n",
       "      <th>good</th>\n",
       "      <td>19.207143</td>\n",
       "      <td>2985.457143</td>\n",
       "      <td>2.920000</td>\n",
       "      <td>2.842857</td>\n",
       "      <td>36.224286</td>\n",
       "      <td>1.424286</td>\n",
       "      <td>1.155714</td>\n",
       "    </tr>\n",
       "  </tbody>\n",
       "</table>\n",
       "</div>"
      ],
      "text/plain": [
       "       duration  credit_amount  installment_rate  Present residence since  \\\n",
       "Risk                                                                        \n",
       "bad   24.860000    3938.126667          3.096667                 2.850000   \n",
       "good  19.207143    2985.457143          2.920000                 2.842857   \n",
       "\n",
       "            Age  Number of existing credits at this bank  dependents  \n",
       "Risk                                                                  \n",
       "bad   33.963333                                 1.366667    1.153333  \n",
       "good  36.224286                                 1.424286    1.155714  "
      ]
     },
     "execution_count": 17,
     "metadata": {},
     "output_type": "execute_result"
    }
   ],
   "source": [
    "# mean smmary of applicants (good risk vs bad risk) \n",
    "risk_summary = df.groupby('Risk')\n",
    "risk_summary.mean()"
   ]
  },
  {
   "cell_type": "markdown",
   "metadata": {},
   "source": [
    "The loan applications with bad risk have asked for higher duration in average, and have a higher credit amount in average  compared to applications with good risk. Average installment rate is also higher in applications with bad risk. Average age and average number of existing credits is higher in applications with good risk.\n",
    "\n",
    "It seems \"present residence since\" and \"dependents\" variables doesn't differ much within the two groups. For each variable, we can use hypothesis testing to test if there is any difference or not within these two risk groups."
   ]
  },
  {
   "cell_type": "markdown",
   "metadata": {},
   "source": [
    "### Numerical variables "
   ]
  },
  {
   "cell_type": "markdown",
   "metadata": {},
   "source": [
    "'Duration' and 'Age' are discrete variables and 'credit_amount' is a continuous variable. However, since there appears to be many distinct values in these variable, they are being analyzed together."
   ]
  },
  {
   "cell_type": "code",
   "execution_count": 18,
   "metadata": {},
   "outputs": [
    {
     "data": {
      "image/png": "[encoded data removed]",
      "text/plain": [
       "<Figure size 600.75x540 with 12 Axes>"
      ]
     },
     "metadata": {
      "needs_background": "light"
     },
     "output_type": "display_data"
    }
   ],
   "source": [
    "g = sns.pairplot(df[['duration', 'credit_amount','Age', 'Risk']], hue=\"Risk\", palette=\"Set2\", diag_kind=\"kde\", height=2.5)"
   ]
  },
  {
   "cell_type": "markdown",
   "metadata": {},
   "source": [
    "Duration, credit_amount, and Age distributions are positively skewed distributions regardless of the type of risk. When looking at credit_amount and duration ,there seem to be a positive correlation meaning as the duration increases, creit amount also increases."
   ]
  },
  {
   "cell_type": "code",
   "execution_count": 19,
   "metadata": {
    "scrolled": false
   },
   "outputs": [
    {
     "data": {
      "image/png": "[encoded data removed]",
      "text/plain": [
       "<Figure size 1008x864 with 4 Axes>"
      ]
     },
     "metadata": {
      "needs_background": "light"
     },
     "output_type": "display_data"
    }
   ],
   "source": [
    "fig = plt.figure(figsize=(14,12))\n",
    "\n",
    "plt.subplot(2,2,1)\n",
    "sns.countplot(data = df, x=\"Number of existing credits at this bank\", hue =\"Risk\")\n",
    "\n",
    "plt.subplot(2,2,2)\n",
    "sns.countplot(data = df, x=\"installment_rate\", hue =\"Risk\")\n",
    "\n",
    "plt.subplot(2,2,3)\n",
    "sns.countplot(data = df, x=\"dependents\", hue =\"Risk\")\n",
    "\n",
    "plt.subplot(2,2,4)\n",
    "sns.countplot(data = df, x=\"Present residence since\", hue =\"Risk\")\n",
    "plt.show()"
   ]
  },
  {
   "cell_type": "markdown",
   "metadata": {},
   "source": [
    "Since these variables have at most four distinct values, there are plotted together to see if any patterns are visible. It seems all these distributions follow the same pattern regardless of the risk they have. "
   ]
  },
  {
   "cell_type": "markdown",
   "metadata": {},
   "source": [
    "### Categorical variables"
   ]
  },
  {
   "cell_type": "code",
   "execution_count": 20,
   "metadata": {
    "scrolled": true
   },
   "outputs": [
    {
     "data": {
      "text/plain": [
       "no checking account    0.497143\n",
       "0 <= . <  200 DM       0.234286\n",
       "< 0 DM                 0.198571\n",
       ">= 200 DM              0.070000\n",
       "Name: status, dtype: float64"
      ]
     },
     "execution_count": 20,
     "metadata": {},
     "output_type": "execute_result"
    }
   ],
   "source": [
    "good = df[df['Risk']== \"good\"]\n",
    "bad = df[df['Risk']==\"bad\"]\n",
    "\n",
    "good['status'].value_counts(normalize = True)"
   ]
  },
  {
   "cell_type": "code",
   "execution_count": 21,
   "metadata": {},
   "outputs": [
    {
     "data": {
      "text/plain": [
       "(300, 18)"
      ]
     },
     "execution_count": 21,
     "metadata": {},
     "output_type": "execute_result"
    }
   ],
   "source": [
    "bad.shape"
   ]
  },
  {
   "cell_type": "code",
   "execution_count": 22,
   "metadata": {},
   "outputs": [
    {
     "data": {
      "text/plain": [
       "< 0 DM                 0.450000\n",
       "0 <= . <  200 DM       0.350000\n",
       "no checking account    0.153333\n",
       ">= 200 DM              0.046667\n",
       "Name: status, dtype: float64"
      ]
     },
     "execution_count": 22,
     "metadata": {},
     "output_type": "execute_result"
    }
   ],
   "source": [
    "bad['status'].value_counts(normalize = True)"
   ]
  },
  {
   "cell_type": "code",
   "execution_count": 23,
   "metadata": {},
   "outputs": [
    {
     "data": {
      "text/plain": [
       "<100 DM                        0.551429\n",
       "unknown/ no savings account    0.215714\n",
       "100<=.<500 DM                  0.098571\n",
       "500 <=.< 1000 DM               0.074286\n",
       ">= 1000 DM                     0.060000\n",
       "Name: savings account/bonds, dtype: float64"
      ]
     },
     "execution_count": 23,
     "metadata": {},
     "output_type": "execute_result"
    }
   ],
   "source": [
    "good['savings account/bonds'].value_counts(normalize = True)"
   ]
  },
  {
   "cell_type": "code",
   "execution_count": 24,
   "metadata": {},
   "outputs": [
    {
     "data": {
      "text/plain": [
       "<100 DM                        0.723333\n",
       "100<=.<500 DM                  0.113333\n",
       "unknown/ no savings account    0.106667\n",
       "500 <=.< 1000 DM               0.036667\n",
       ">= 1000 DM                     0.020000\n",
       "Name: savings account/bonds, dtype: float64"
      ]
     },
     "execution_count": 24,
     "metadata": {},
     "output_type": "execute_result"
    }
   ],
   "source": [
    "bad['savings account/bonds'].value_counts(normalize = True)"
   ]
  },
  {
   "cell_type": "code",
   "execution_count": 25,
   "metadata": {},
   "outputs": [
    {
     "data": {
      "text/html": [
       "<div>\n",
       "<style scoped>\n",
       "    .dataframe tbody tr th:only-of-type {\n",
       "        vertical-align: middle;\n",
       "    }\n",
       "\n",
       "    .dataframe tbody tr th {\n",
       "        vertical-align: top;\n",
       "    }\n",
       "\n",
       "    .dataframe thead th {\n",
       "        text-align: right;\n",
       "    }\n",
       "</style>\n",
       "<table border=\"1\" class=\"dataframe\">\n",
       "  <thead>\n",
       "    <tr style=\"text-align: right;\">\n",
       "      <th>savings account/bonds</th>\n",
       "      <th>100&lt;=.&lt;500 DM</th>\n",
       "      <th>500 &lt;=.&lt; 1000 DM</th>\n",
       "      <th>&lt;100 DM</th>\n",
       "      <th>&gt;= 1000 DM</th>\n",
       "      <th>unknown/ no savings account</th>\n",
       "      <th>All</th>\n",
       "    </tr>\n",
       "    <tr>\n",
       "      <th>status</th>\n",
       "      <th></th>\n",
       "      <th></th>\n",
       "      <th></th>\n",
       "      <th></th>\n",
       "      <th></th>\n",
       "      <th></th>\n",
       "    </tr>\n",
       "  </thead>\n",
       "  <tbody>\n",
       "    <tr>\n",
       "      <th>0 &lt;= . &lt;  200 DM</th>\n",
       "      <td>24</td>\n",
       "      <td>3</td>\n",
       "      <td>67</td>\n",
       "      <td>4</td>\n",
       "      <td>7</td>\n",
       "      <td>105</td>\n",
       "    </tr>\n",
       "    <tr>\n",
       "      <th>&lt; 0 DM</th>\n",
       "      <td>5</td>\n",
       "      <td>2</td>\n",
       "      <td>114</td>\n",
       "      <td>0</td>\n",
       "      <td>14</td>\n",
       "      <td>135</td>\n",
       "    </tr>\n",
       "    <tr>\n",
       "      <th>&gt;= 200 DM</th>\n",
       "      <td>1</td>\n",
       "      <td>1</td>\n",
       "      <td>10</td>\n",
       "      <td>0</td>\n",
       "      <td>2</td>\n",
       "      <td>14</td>\n",
       "    </tr>\n",
       "    <tr>\n",
       "      <th>no checking account</th>\n",
       "      <td>4</td>\n",
       "      <td>5</td>\n",
       "      <td>26</td>\n",
       "      <td>2</td>\n",
       "      <td>9</td>\n",
       "      <td>46</td>\n",
       "    </tr>\n",
       "    <tr>\n",
       "      <th>All</th>\n",
       "      <td>34</td>\n",
       "      <td>11</td>\n",
       "      <td>217</td>\n",
       "      <td>6</td>\n",
       "      <td>32</td>\n",
       "      <td>300</td>\n",
       "    </tr>\n",
       "  </tbody>\n",
       "</table>\n",
       "</div>"
      ],
      "text/plain": [
       "savings account/bonds  100<=.<500 DM  500 <=.< 1000 DM  <100 DM  >= 1000 DM  \\\n",
       "status                                                                        \n",
       "0 <= . <  200 DM                  24                 3       67           4   \n",
       "< 0 DM                             5                 2      114           0   \n",
       ">= 200 DM                          1                 1       10           0   \n",
       "no checking account                4                 5       26           2   \n",
       "All                               34                11      217           6   \n",
       "\n",
       "savings account/bonds  unknown/ no savings account  All  \n",
       "status                                                   \n",
       "0 <= . <  200 DM                                 7  105  \n",
       "< 0 DM                                          14  135  \n",
       ">= 200 DM                                        2   14  \n",
       "no checking account                              9   46  \n",
       "All                                             32  300  "
      ]
     },
     "execution_count": 25,
     "metadata": {},
     "output_type": "execute_result"
    }
   ],
   "source": [
    "pd.crosstab(bad['status'], bad['savings account/bonds'], margins = True)"
   ]
  },
  {
   "cell_type": "code",
   "execution_count": 26,
   "metadata": {},
   "outputs": [
    {
     "data": {
      "text/html": [
       "<div>\n",
       "<style scoped>\n",
       "    .dataframe tbody tr th:only-of-type {\n",
       "        vertical-align: middle;\n",
       "    }\n",
       "\n",
       "    .dataframe tbody tr th {\n",
       "        vertical-align: top;\n",
       "    }\n",
       "\n",
       "    .dataframe thead th {\n",
       "        text-align: right;\n",
       "    }\n",
       "</style>\n",
       "<table border=\"1\" class=\"dataframe\">\n",
       "  <thead>\n",
       "    <tr style=\"text-align: right;\">\n",
       "      <th>savings account/bonds</th>\n",
       "      <th>100&lt;=.&lt;500 DM</th>\n",
       "      <th>500 &lt;=.&lt; 1000 DM</th>\n",
       "      <th>&lt;100 DM</th>\n",
       "      <th>&gt;= 1000 DM</th>\n",
       "      <th>unknown/ no savings account</th>\n",
       "      <th>All</th>\n",
       "    </tr>\n",
       "    <tr>\n",
       "      <th>status</th>\n",
       "      <th></th>\n",
       "      <th></th>\n",
       "      <th></th>\n",
       "      <th></th>\n",
       "      <th></th>\n",
       "      <th></th>\n",
       "    </tr>\n",
       "  </thead>\n",
       "  <tbody>\n",
       "    <tr>\n",
       "      <th>0 &lt;= . &lt;  200 DM</th>\n",
       "      <td>23</td>\n",
       "      <td>8</td>\n",
       "      <td>85</td>\n",
       "      <td>10</td>\n",
       "      <td>38</td>\n",
       "      <td>164</td>\n",
       "    </tr>\n",
       "    <tr>\n",
       "      <th>&lt; 0 DM</th>\n",
       "      <td>7</td>\n",
       "      <td>6</td>\n",
       "      <td>105</td>\n",
       "      <td>6</td>\n",
       "      <td>15</td>\n",
       "      <td>139</td>\n",
       "    </tr>\n",
       "    <tr>\n",
       "      <th>&gt;= 200 DM</th>\n",
       "      <td>4</td>\n",
       "      <td>3</td>\n",
       "      <td>31</td>\n",
       "      <td>3</td>\n",
       "      <td>8</td>\n",
       "      <td>49</td>\n",
       "    </tr>\n",
       "    <tr>\n",
       "      <th>no checking account</th>\n",
       "      <td>35</td>\n",
       "      <td>35</td>\n",
       "      <td>165</td>\n",
       "      <td>23</td>\n",
       "      <td>90</td>\n",
       "      <td>348</td>\n",
       "    </tr>\n",
       "    <tr>\n",
       "      <th>All</th>\n",
       "      <td>69</td>\n",
       "      <td>52</td>\n",
       "      <td>386</td>\n",
       "      <td>42</td>\n",
       "      <td>151</td>\n",
       "      <td>700</td>\n",
       "    </tr>\n",
       "  </tbody>\n",
       "</table>\n",
       "</div>"
      ],
      "text/plain": [
       "savings account/bonds  100<=.<500 DM  500 <=.< 1000 DM  <100 DM  >= 1000 DM  \\\n",
       "status                                                                        \n",
       "0 <= . <  200 DM                  23                 8       85          10   \n",
       "< 0 DM                             7                 6      105           6   \n",
       ">= 200 DM                          4                 3       31           3   \n",
       "no checking account               35                35      165          23   \n",
       "All                               69                52      386          42   \n",
       "\n",
       "savings account/bonds  unknown/ no savings account  All  \n",
       "status                                                   \n",
       "0 <= . <  200 DM                                38  164  \n",
       "< 0 DM                                          15  139  \n",
       ">= 200 DM                                        8   49  \n",
       "no checking account                             90  348  \n",
       "All                                            151  700  "
      ]
     },
     "execution_count": 26,
     "metadata": {},
     "output_type": "execute_result"
    }
   ],
   "source": [
    "pd.crosstab(good['status'], good['savings account/bonds'], margins = True)"
   ]
  },
  {
   "cell_type": "code",
   "execution_count": 27,
   "metadata": {},
   "outputs": [
    {
     "data": {
      "image/png": "[encoded data removed]",
      "text/plain": [
       "<Figure size 720x720 with 2 Axes>"
      ]
     },
     "metadata": {
      "needs_background": "light"
     },
     "output_type": "display_data"
    }
   ],
   "source": [
    "fig = plt.figure(figsize=(10,10))\n",
    "\n",
    "plt.subplot(2,1,1)\n",
    "sns.countplot(y = 'status', data = df, hue = 'Risk')\n",
    "\n",
    "plt.subplot(2,1,2)\n",
    "sns.countplot(y = 'savings account/bonds', data = df, hue = 'Risk')\n",
    "plt.show()"
   ]
  },
  {
   "cell_type": "code",
   "execution_count": 28,
   "metadata": {},
   "outputs": [
    {
     "data": {
      "text/plain": [
       "<AxesSubplot:xlabel='count', ylabel='Other debtors / guarantors'>"
      ]
     },
     "execution_count": 28,
     "metadata": {},
     "output_type": "execute_result"
    },
    {
     "data": {
      "image/png": "[encoded data removed]",
      "text/plain": [
       "<Figure size 720x720 with 3 Axes>"
      ]
     },
     "metadata": {
      "needs_background": "light"
     },
     "output_type": "display_data"
    }
   ],
   "source": [
    "fig = plt.figure(figsize=(10,10))\n",
    "\n",
    "plt.subplot(3,1,1)\n",
    "sns.countplot(y = 'present employment', data = df, hue = 'Risk')\n",
    "\n",
    "plt.subplot(3,1,2)\n",
    "sns.countplot(y = 'credit_hist', data = df, hue = 'Risk')\n",
    "\n",
    "plt.subplot(3,1,3)\n",
    "sns.countplot(y = 'Other debtors / guarantors', data = df, hue = 'Risk')\n"
   ]
  },
  {
   "cell_type": "code",
   "execution_count": 29,
   "metadata": {},
   "outputs": [
    {
     "data": {
      "text/plain": [
       "<AxesSubplot:xlabel='count', ylabel='Sex'>"
      ]
     },
     "execution_count": 29,
     "metadata": {},
     "output_type": "execute_result"
    },
    {
     "data": {
      "image/png": "[encoded data removed]",
      "text/plain": [
       "<Figure size 720x720 with 3 Axes>"
      ]
     },
     "metadata": {
      "needs_background": "light"
     },
     "output_type": "display_data"
    }
   ],
   "source": [
    "fig = plt.figure(figsize=(10,10))\n",
    "\n",
    "plt.subplot(3,1,1)\n",
    "sns.countplot(y = 'Housing', data = df, hue = 'Risk')\n",
    "\n",
    "plt.subplot(3,1,2)\n",
    "sns.countplot(y = 'Job', data = df, hue = 'Risk')\n",
    "\n",
    "plt.subplot(3,1,3)\n",
    "sns.countplot(y = 'Sex', data = df, hue = 'Risk')"
   ]
  },
  {
   "cell_type": "markdown",
   "metadata": {},
   "source": [
    "Now the question is how a particular applicant become a good risk or bad. What factors affct the most in deciding this!\n",
    "\n",
    "Observing the distribution patterns of duration, credit amount, and age, we cannot find any significant patterns in good and bad risk loan applications. They are pretty much shuffled together, no fine lines can be seen separating the two types of risks. \n",
    "\n",
    "Number of existing credits in the bank means the total number of funds a person or business can borrow from the bank. Most of the applicatnts here have only one and highest number of credits is four. There are many loan applicants with one credit and good credit risk. As the number of credits increases from one to four, difference in counts of good and bad risk decreases."
   ]
  },
  {
   "cell_type": "markdown",
   "metadata": {},
   "source": [
    "### Credit amount VS Duration"
   ]
  },
  {
   "cell_type": "code",
   "execution_count": 30,
   "metadata": {},
   "outputs": [
    {
     "data": {
      "text/plain": [
       "<seaborn.axisgrid.FacetGrid at 0x208c2d581c0>"
      ]
     },
     "execution_count": 30,
     "metadata": {},
     "output_type": "execute_result"
    },
    {
     "data": {
      "image/png": "[encoded data removed]",
      "text/plain": [
       "<Figure size 420.75x360 with 1 Axes>"
      ]
     },
     "metadata": {
      "needs_background": "light"
     },
     "output_type": "display_data"
    }
   ],
   "source": [
    "sns.lmplot(x='credit_amount', y = 'duration', data = df, fit_reg = False, hue='Risk')"
   ]
  },
  {
   "cell_type": "markdown",
   "metadata": {},
   "source": [
    "### Loan Duration"
   ]
  },
  {
   "cell_type": "code",
   "execution_count": 31,
   "metadata": {},
   "outputs": [
    {
     "data": {
      "image/png": "[encoded data removed]",
      "text/plain": [
       "<Figure size 1080x288 with 1 Axes>"
      ]
     },
     "metadata": {
      "needs_background": "light"
     },
     "output_type": "display_data"
    }
   ],
   "source": [
    "#KDEPLot: Kernel Density Estimate Plot\n",
    "fig = plt.figure(figsize=(15,4))\n",
    "ax = sns.kdeplot(df.loc[(df['Risk']=='good'), 'duration'], color ='b', shade = True, label = 'good risk')\n",
    "ax = sns.kdeplot(df.loc[(df['Risk']=='bad'), 'duration'], color ='r', shade = True, label = 'bad risk')\n",
    "ax.set(xlabel = \"Loan Duration\", ylabel = \"frequency\")\n",
    "ax.legend(ncol = 1, loc = 'upper right', frameon = True)\n",
    "plt.title(\"Loan Duration Distribution - Goog Risk Vs Bad Risk\")\n",
    "plt.show()"
   ]
  },
  {
   "cell_type": "markdown",
   "metadata": {},
   "source": [
    "Duration is a multi-modal distribution. Applications with loan duration around 10 months has a good reputation, again applications with loan duration close to 25 and 35 months also has a good risk."
   ]
  },
  {
   "cell_type": "markdown",
   "metadata": {},
   "source": [
    "### Credit history "
   ]
  },
  {
   "cell_type": "code",
   "execution_count": 32,
   "metadata": {},
   "outputs": [
    {
     "data": {
      "text/html": [
       "<div>\n",
       "<style scoped>\n",
       "    .dataframe tbody tr th:only-of-type {\n",
       "        vertical-align: middle;\n",
       "    }\n",
       "\n",
       "    .dataframe tbody tr th {\n",
       "        vertical-align: top;\n",
       "    }\n",
       "\n",
       "    .dataframe thead th {\n",
       "        text-align: right;\n",
       "    }\n",
       "</style>\n",
       "<table border=\"1\" class=\"dataframe\">\n",
       "  <thead>\n",
       "    <tr style=\"text-align: right;\">\n",
       "      <th></th>\n",
       "      <th>credit_hist</th>\n",
       "      <th>good</th>\n",
       "      <th>bad</th>\n",
       "    </tr>\n",
       "  </thead>\n",
       "  <tbody>\n",
       "    <tr>\n",
       "      <th>0</th>\n",
       "      <td>existing credits paid back duly till now</td>\n",
       "      <td>361</td>\n",
       "      <td>530</td>\n",
       "    </tr>\n",
       "    <tr>\n",
       "      <th>1</th>\n",
       "      <td>critical account/other credits existing (not at this bank)</td>\n",
       "      <td>243</td>\n",
       "      <td>293</td>\n",
       "    </tr>\n",
       "    <tr>\n",
       "      <th>2</th>\n",
       "      <td>delay in paying off in the past</td>\n",
       "      <td>60</td>\n",
       "      <td>88</td>\n",
       "    </tr>\n",
       "    <tr>\n",
       "      <th>3</th>\n",
       "      <td>all credits at this bank paid back duly</td>\n",
       "      <td>21</td>\n",
       "      <td>49</td>\n",
       "    </tr>\n",
       "    <tr>\n",
       "      <th>4</th>\n",
       "      <td>no credits taken/all credits paid back duly</td>\n",
       "      <td>15</td>\n",
       "      <td>40</td>\n",
       "    </tr>\n",
       "  </tbody>\n",
       "</table>\n",
       "</div>"
      ],
      "text/plain": [
       "                                                  credit_hist  good  bad\n",
       "0                    existing credits paid back duly till now   361  530\n",
       "1  critical account/other credits existing (not at this bank)   243  293\n",
       "2                             delay in paying off in the past    60   88\n",
       "3                     all credits at this bank paid back duly    21   49\n",
       "4                 no credits taken/all credits paid back duly    15   40"
      ]
     },
     "execution_count": 32,
     "metadata": {},
     "output_type": "execute_result"
    }
   ],
   "source": [
    "good_risk = df[df['Risk']=='good']\n",
    "\n",
    "good_risk = pd.DataFrame(good_risk.credit_hist.value_counts()).reset_index()\n",
    "bad_risk = pd.DataFrame(df.credit_hist.value_counts()).reset_index()\n",
    "\n",
    "risk_merge = pd.merge(good_risk, bad_risk, how = 'inner', on ='index')\n",
    "\n",
    "risk_merge = risk_merge.rename(columns={'credit_hist_x': 'good', \"credit_hist_y\": 'bad', 'index':'credit_hist'})\n",
    "pd.set_option('max_colwidth', 800)\n",
    "\n",
    "risk_merge"
   ]
  },
  {
   "cell_type": "code",
   "execution_count": 33,
   "metadata": {
    "scrolled": true
   },
   "outputs": [
    {
     "data": {
      "image/png": "[encoded data removed]",
      "text/plain": [
       "<Figure size 936x504 with 1 Axes>"
      ]
     },
     "metadata": {},
     "output_type": "display_data"
    }
   ],
   "source": [
    "sns.set(style = 'whitegrid')\n",
    "f, ax = plt.subplots(figsize=(13,7))\n",
    "\n",
    "\n",
    "sns.set_color_codes('pastel')\n",
    "sns.barplot(x='bad', y = 'credit_hist', data = risk_merge, label='Total', color ='b')\n",
    "\n",
    "sns.set_color_codes('muted')\n",
    "sns.barplot(x='good', y = 'credit_hist', data = risk_merge, label='good', color ='g')\n",
    "\n",
    "ax.legend(ncol=2, loc='lower right', frameon = True)\n",
    "ax.set(ylabel='credit history', title = 'Risk Vs Credit history', xlabel = 'Number of loan applications')\n",
    "sns.despine(left=True, bottom = True)"
   ]
  },
  {
   "cell_type": "code",
   "execution_count": 34,
   "metadata": {},
   "outputs": [
    {
     "data": {
      "text/html": [
       "<div>\n",
       "<style scoped>\n",
       "    .dataframe tbody tr th:only-of-type {\n",
       "        vertical-align: middle;\n",
       "    }\n",
       "\n",
       "    .dataframe tbody tr th {\n",
       "        vertical-align: top;\n",
       "    }\n",
       "\n",
       "    .dataframe thead th {\n",
       "        text-align: right;\n",
       "    }\n",
       "</style>\n",
       "<table border=\"1\" class=\"dataframe\">\n",
       "  <thead>\n",
       "    <tr style=\"text-align: right;\">\n",
       "      <th></th>\n",
       "      <th>purpose</th>\n",
       "      <th>good</th>\n",
       "      <th>bad</th>\n",
       "    </tr>\n",
       "  </thead>\n",
       "  <tbody>\n",
       "    <tr>\n",
       "      <th>0</th>\n",
       "      <td>radio/television</td>\n",
       "      <td>218</td>\n",
       "      <td>280</td>\n",
       "    </tr>\n",
       "    <tr>\n",
       "      <th>1</th>\n",
       "      <td>car(new)</td>\n",
       "      <td>145</td>\n",
       "      <td>234</td>\n",
       "    </tr>\n",
       "    <tr>\n",
       "      <th>2</th>\n",
       "      <td>furniture/equipment</td>\n",
       "      <td>123</td>\n",
       "      <td>181</td>\n",
       "    </tr>\n",
       "    <tr>\n",
       "      <th>3</th>\n",
       "      <td>car(used)</td>\n",
       "      <td>86</td>\n",
       "      <td>103</td>\n",
       "    </tr>\n",
       "    <tr>\n",
       "      <th>4</th>\n",
       "      <td>business</td>\n",
       "      <td>63</td>\n",
       "      <td>97</td>\n",
       "    </tr>\n",
       "    <tr>\n",
       "      <th>5</th>\n",
       "      <td>education</td>\n",
       "      <td>28</td>\n",
       "      <td>50</td>\n",
       "    </tr>\n",
       "    <tr>\n",
       "      <th>6</th>\n",
       "      <td>repairs</td>\n",
       "      <td>14</td>\n",
       "      <td>22</td>\n",
       "    </tr>\n",
       "    <tr>\n",
       "      <th>7</th>\n",
       "      <td>domestic appliances</td>\n",
       "      <td>8</td>\n",
       "      <td>12</td>\n",
       "    </tr>\n",
       "    <tr>\n",
       "      <th>8</th>\n",
       "      <td>retraining</td>\n",
       "      <td>8</td>\n",
       "      <td>9</td>\n",
       "    </tr>\n",
       "    <tr>\n",
       "      <th>9</th>\n",
       "      <td>others</td>\n",
       "      <td>7</td>\n",
       "      <td>12</td>\n",
       "    </tr>\n",
       "  </tbody>\n",
       "</table>\n",
       "</div>"
      ],
      "text/plain": [
       "               purpose  good  bad\n",
       "0     radio/television   218  280\n",
       "1             car(new)   145  234\n",
       "2  furniture/equipment   123  181\n",
       "3            car(used)    86  103\n",
       "4             business    63   97\n",
       "5            education    28   50\n",
       "6              repairs    14   22\n",
       "7  domestic appliances     8   12\n",
       "8           retraining     8    9\n",
       "9               others     7   12"
      ]
     },
     "execution_count": 34,
     "metadata": {},
     "output_type": "execute_result"
    }
   ],
   "source": [
    "good_risk = df[df['Risk']=='good']\n",
    "\n",
    "good_risk = pd.DataFrame(good_risk.purpose.value_counts()).reset_index()\n",
    "bad_risk = pd.DataFrame(df.purpose.value_counts()).reset_index()\n",
    "\n",
    "risk_merge = pd.merge(good_risk, bad_risk, how = 'inner', on ='index')\n",
    "\n",
    "risk_merge = risk_merge.rename(columns={'purpose_x': 'good', \"purpose_y\": 'bad', 'index':'purpose'})\n",
    "pd.set_option('max_colwidth', 800)\n",
    "\n",
    "risk_merge"
   ]
  },
  {
   "cell_type": "code",
   "execution_count": 35,
   "metadata": {},
   "outputs": [
    {
     "data": {
      "image/png": "[encoded data removed]",
      "text/plain": [
       "<Figure size 936x504 with 1 Axes>"
      ]
     },
     "metadata": {},
     "output_type": "display_data"
    }
   ],
   "source": [
    "sns.set(style = 'whitegrid')\n",
    "f, ax = plt.subplots(figsize=(13,7))\n",
    "\n",
    "\n",
    "sns.set_color_codes('pastel')\n",
    "sns.barplot(x='bad', y = 'purpose', data = risk_merge, label='Total', color ='b')\n",
    "\n",
    "sns.set_color_codes('muted')\n",
    "sns.barplot(x='good', y = 'purpose', data = risk_merge, label='good', color ='g')\n",
    "\n",
    "ax.legend(ncol=2, loc='lower right', frameon = True)\n",
    "ax.set(ylabel='credit history', title = 'Risk Vs Credit history', xlabel = 'Number of loan applications')\n",
    "sns.despine(left=True, bottom = True)"
   ]
  },
  {
   "cell_type": "code",
   "execution_count": 36,
   "metadata": {},
   "outputs": [
    {
     "data": {
      "image/png": "[encoded data removed]",
      "text/plain": [
       "<Figure size 1080x288 with 1 Axes>"
      ]
     },
     "metadata": {},
     "output_type": "display_data"
    }
   ],
   "source": [
    "fig = plt.figure(figsize=(15,4))\n",
    "ax = sns.kdeplot(df.loc[(df['Risk']=='good'), 'Age'], color ='b', shade = True, label = 'good risk')\n",
    "ax = sns.kdeplot(df.loc[(df['Risk']=='bad'), 'Age'], color ='r', shade = True, label = 'bad risk')\n",
    "ax.set(xlabel = \"Applicant's Age\", ylabel = \"frequency\")\n",
    "ax.legend(ncol = 1, loc = 'upper right', frameon = True)\n",
    "plt.title(\"Applicant's Age Distribution - Goog Risk Vs Bad Risk\")\n",
    "plt.show()"
   ]
  },
  {
   "cell_type": "markdown",
   "metadata": {},
   "source": [
    "Applicants with age between 10 and 31(roughly) tend to have bad risk than good. Between ages 31 to 55, appplicants are more likely to be good risk than bad. After the age of 55, it is not easy to differentiate whether a particular loan applicant is good or bad."
   ]
  },
  {
   "cell_type": "markdown",
   "metadata": {},
   "source": [
    "# Data Pre-processing\n",
    "***"
   ]
  },
  {
   "cell_type": "markdown",
   "metadata": {},
   "source": [
    "We have ten categorical variables and seven numerical variables. They need to be encoded before feeding into machine learning models. There are couple of ways to encode categorical variables. Few of them are, \n",
    "\n",
    "- Ordinal Encoding: convert string labels to integer values\n",
    "- OneHot Encoding: One column for each entry\n",
    "- Binary Encoding: convert each integer to binary digits. Each binary digit gets one column.\n",
    "\n",
    "As status, savings account/bonds, present employment variables are ordinal, I encode them manually (didn't use ordinal encoding because it doesn't assign the values the way I want: it assigns one to first unique value in the column, 2 to the second unique value)\n",
    "\n",
    "The variables Housing, other debtors/guarantors, other installment plans were encoded as 1 or 0. For Example, if the applicant owns a house 1, if not 0.\n",
    "\n",
    "For the other categorical variables, I use OneHot encoding. This could be used to all the categorical variables as well. The pandas GetDummies or scikit-learn's OneHotEncoder can be used for this. I use Pandas GetDummies here."
   ]
  },
  {
   "cell_type": "code",
   "execution_count": 37,
   "metadata": {},
   "outputs": [],
   "source": [
    "#keeping the original dataset as it is \n",
    "df1 = df[['status', 'duration', 'credit_hist', 'purpose', 'credit_amount',\n",
    "       'savings account/bonds', 'present employment', 'installment_rate',\n",
    "       'Other debtors / guarantors', 'Present residence since', 'Age',\n",
    "       'Other installment plans', 'Housing',\n",
    "       'Number of existing credits at this bank', 'Job', 'dependents', 'Risk',\n",
    "       'Sex']]"
   ]
  },
  {
   "cell_type": "code",
   "execution_count": 38,
   "metadata": {},
   "outputs": [
    {
     "name": "stdout",
     "output_type": "stream",
     "text": [
      "<class 'pandas.core.frame.DataFrame'>\n",
      "RangeIndex: 1000 entries, 0 to 999\n",
      "Data columns (total 18 columns):\n",
      " #   Column                                   Non-Null Count  Dtype \n",
      "---  ------                                   --------------  ----- \n",
      " 0   duration                                 1000 non-null   int64 \n",
      " 1   credit_hist                              1000 non-null   object\n",
      " 2   purpose                                  1000 non-null   object\n",
      " 3   credit_amount                            1000 non-null   int64 \n",
      " 4   installment_rate                         1000 non-null   int64 \n",
      " 5   Present residence since                  1000 non-null   int64 \n",
      " 6   Age                                      1000 non-null   int64 \n",
      " 7   Number of existing credits at this bank  1000 non-null   int64 \n",
      " 8   Job                                      1000 non-null   object\n",
      " 9   dependents                               1000 non-null   int64 \n",
      " 10  Sex                                      1000 non-null   object\n",
      " 11  status_new                               1000 non-null   int64 \n",
      " 12  savings_new                              1000 non-null   int64 \n",
      " 13  employment_new                           1000 non-null   int64 \n",
      " 14  debtors_new                              1000 non-null   int64 \n",
      " 15  other_plans                              1000 non-null   int64 \n",
      " 16  Housing_new                              1000 non-null   int64 \n",
      " 17  risk                                     1000 non-null   int64 \n",
      "dtypes: int64(14), object(4)\n",
      "memory usage: 140.8+ KB\n"
     ]
    }
   ],
   "source": [
    "status_mapper = {'no checking account':1, '< 0 DM': 2, '0 <= . <  200 DM': 3, '>= 200 DM': 4}\n",
    "df[\"status_new\"] = df[\"status\"].replace(status_mapper)\n",
    "\n",
    "savings_mapper = {'unknown/ no savings account': 1, '<100 DM':2, '100<=.<500 DM':3,\n",
    "                  '500 <=.< 1000 DM':4, '>= 1000 DM':5}\n",
    "df[\"savings_new\"] = df[\"savings account/bonds\"].replace(savings_mapper)\n",
    "\n",
    "employment_mapper = {'unemployed':1, '< 1 year':2, '1<=.<4 years':3, '4<=.<7 years':4, '>= 7 years':5}\n",
    "df[\"employment_new\"] = df[\"present employment\"].replace(employment_mapper)\n",
    "\n",
    "debtors_mapper = {'none':0, 'co-applicant':1, 'guarantor':1 }\n",
    "df[\"debtors_new\"] = df[\"Other debtors / guarantors\"].replace(debtors_mapper)\n",
    "\n",
    "other_plans_mapper = {'bank':1, 'stores':1, 'none':0}\n",
    "df[\"other_plans\"] = df[\"Other installment plans\"].replace(other_plans_mapper)\n",
    "\n",
    "housing_mapper = {'rent':0 , 'own':1 , 'for free':0}\n",
    "df[\"Housing_new\"] = df[\"Housing\"].replace(housing_mapper)\n",
    "\n",
    "risk_mapper = {'good':1, 'bad':0}\n",
    "df[\"risk\"] = df[\"Risk\"].replace(risk_mapper)\n",
    "\n",
    "\n",
    "df = df.drop(columns=[\"status\", \"savings account/bonds\", \"present employment\",\n",
    "                 \"Other debtors / guarantors\", \"Other installment plans\", \"Housing\", 'Risk'  ], axis =1)\n",
    "\n",
    "df.info()"
   ]
  },
  {
   "cell_type": "code",
   "execution_count": 39,
   "metadata": {},
   "outputs": [
    {
     "data": {
      "text/html": [
       "<div>\n",
       "<style scoped>\n",
       "    .dataframe tbody tr th:only-of-type {\n",
       "        vertical-align: middle;\n",
       "    }\n",
       "\n",
       "    .dataframe tbody tr th {\n",
       "        vertical-align: top;\n",
       "    }\n",
       "\n",
       "    .dataframe thead th {\n",
       "        text-align: right;\n",
       "    }\n",
       "</style>\n",
       "<table border=\"1\" class=\"dataframe\">\n",
       "  <thead>\n",
       "    <tr style=\"text-align: right;\">\n",
       "      <th></th>\n",
       "      <th>0</th>\n",
       "      <th>1</th>\n",
       "      <th>2</th>\n",
       "      <th>3</th>\n",
       "      <th>4</th>\n",
       "    </tr>\n",
       "  </thead>\n",
       "  <tbody>\n",
       "    <tr>\n",
       "      <th>credit_hist_critical account/other credits existing (not at this bank)</th>\n",
       "      <td>1</td>\n",
       "      <td>0</td>\n",
       "      <td>1</td>\n",
       "      <td>0</td>\n",
       "      <td>0</td>\n",
       "    </tr>\n",
       "    <tr>\n",
       "      <th>credit_hist_delay in paying off in the past</th>\n",
       "      <td>0</td>\n",
       "      <td>0</td>\n",
       "      <td>0</td>\n",
       "      <td>0</td>\n",
       "      <td>1</td>\n",
       "    </tr>\n",
       "    <tr>\n",
       "      <th>credit_hist_existing credits paid back duly till now</th>\n",
       "      <td>0</td>\n",
       "      <td>1</td>\n",
       "      <td>0</td>\n",
       "      <td>1</td>\n",
       "      <td>0</td>\n",
       "    </tr>\n",
       "    <tr>\n",
       "      <th>credit_hist_no credits taken/all credits paid back duly</th>\n",
       "      <td>0</td>\n",
       "      <td>0</td>\n",
       "      <td>0</td>\n",
       "      <td>0</td>\n",
       "      <td>0</td>\n",
       "    </tr>\n",
       "    <tr>\n",
       "      <th>purpose_car(new)</th>\n",
       "      <td>0</td>\n",
       "      <td>0</td>\n",
       "      <td>0</td>\n",
       "      <td>0</td>\n",
       "      <td>1</td>\n",
       "    </tr>\n",
       "    <tr>\n",
       "      <th>purpose_car(used)</th>\n",
       "      <td>0</td>\n",
       "      <td>0</td>\n",
       "      <td>0</td>\n",
       "      <td>0</td>\n",
       "      <td>0</td>\n",
       "    </tr>\n",
       "    <tr>\n",
       "      <th>purpose_domestic appliances</th>\n",
       "      <td>0</td>\n",
       "      <td>0</td>\n",
       "      <td>0</td>\n",
       "      <td>0</td>\n",
       "      <td>0</td>\n",
       "    </tr>\n",
       "    <tr>\n",
       "      <th>purpose_education</th>\n",
       "      <td>0</td>\n",
       "      <td>0</td>\n",
       "      <td>1</td>\n",
       "      <td>0</td>\n",
       "      <td>0</td>\n",
       "    </tr>\n",
       "    <tr>\n",
       "      <th>purpose_furniture/equipment</th>\n",
       "      <td>0</td>\n",
       "      <td>0</td>\n",
       "      <td>0</td>\n",
       "      <td>1</td>\n",
       "      <td>0</td>\n",
       "    </tr>\n",
       "    <tr>\n",
       "      <th>purpose_others</th>\n",
       "      <td>0</td>\n",
       "      <td>0</td>\n",
       "      <td>0</td>\n",
       "      <td>0</td>\n",
       "      <td>0</td>\n",
       "    </tr>\n",
       "    <tr>\n",
       "      <th>purpose_radio/television</th>\n",
       "      <td>1</td>\n",
       "      <td>1</td>\n",
       "      <td>0</td>\n",
       "      <td>0</td>\n",
       "      <td>0</td>\n",
       "    </tr>\n",
       "    <tr>\n",
       "      <th>purpose_repairs</th>\n",
       "      <td>0</td>\n",
       "      <td>0</td>\n",
       "      <td>0</td>\n",
       "      <td>0</td>\n",
       "      <td>0</td>\n",
       "    </tr>\n",
       "    <tr>\n",
       "      <th>purpose_retraining</th>\n",
       "      <td>0</td>\n",
       "      <td>0</td>\n",
       "      <td>0</td>\n",
       "      <td>0</td>\n",
       "      <td>0</td>\n",
       "    </tr>\n",
       "    <tr>\n",
       "      <th>Job_skilled employee / official</th>\n",
       "      <td>1</td>\n",
       "      <td>1</td>\n",
       "      <td>0</td>\n",
       "      <td>1</td>\n",
       "      <td>1</td>\n",
       "    </tr>\n",
       "    <tr>\n",
       "      <th>Job_unemployed/ unskilled  - non-resident</th>\n",
       "      <td>0</td>\n",
       "      <td>0</td>\n",
       "      <td>0</td>\n",
       "      <td>0</td>\n",
       "      <td>0</td>\n",
       "    </tr>\n",
       "    <tr>\n",
       "      <th>Job_unskilled - resident</th>\n",
       "      <td>0</td>\n",
       "      <td>0</td>\n",
       "      <td>1</td>\n",
       "      <td>0</td>\n",
       "      <td>0</td>\n",
       "    </tr>\n",
       "    <tr>\n",
       "      <th>Sex_male</th>\n",
       "      <td>1</td>\n",
       "      <td>0</td>\n",
       "      <td>1</td>\n",
       "      <td>1</td>\n",
       "      <td>1</td>\n",
       "    </tr>\n",
       "    <tr>\n",
       "      <th>duration</th>\n",
       "      <td>6</td>\n",
       "      <td>48</td>\n",
       "      <td>12</td>\n",
       "      <td>42</td>\n",
       "      <td>24</td>\n",
       "    </tr>\n",
       "    <tr>\n",
       "      <th>credit_amount</th>\n",
       "      <td>1169</td>\n",
       "      <td>5951</td>\n",
       "      <td>2096</td>\n",
       "      <td>7882</td>\n",
       "      <td>4870</td>\n",
       "    </tr>\n",
       "    <tr>\n",
       "      <th>installment_rate</th>\n",
       "      <td>4</td>\n",
       "      <td>2</td>\n",
       "      <td>2</td>\n",
       "      <td>2</td>\n",
       "      <td>3</td>\n",
       "    </tr>\n",
       "    <tr>\n",
       "      <th>Present residence since</th>\n",
       "      <td>4</td>\n",
       "      <td>2</td>\n",
       "      <td>3</td>\n",
       "      <td>4</td>\n",
       "      <td>4</td>\n",
       "    </tr>\n",
       "    <tr>\n",
       "      <th>Age</th>\n",
       "      <td>67</td>\n",
       "      <td>22</td>\n",
       "      <td>49</td>\n",
       "      <td>45</td>\n",
       "      <td>53</td>\n",
       "    </tr>\n",
       "    <tr>\n",
       "      <th>Number of existing credits at this bank</th>\n",
       "      <td>2</td>\n",
       "      <td>1</td>\n",
       "      <td>1</td>\n",
       "      <td>1</td>\n",
       "      <td>2</td>\n",
       "    </tr>\n",
       "    <tr>\n",
       "      <th>dependents</th>\n",
       "      <td>1</td>\n",
       "      <td>1</td>\n",
       "      <td>2</td>\n",
       "      <td>2</td>\n",
       "      <td>2</td>\n",
       "    </tr>\n",
       "    <tr>\n",
       "      <th>status_new</th>\n",
       "      <td>2</td>\n",
       "      <td>3</td>\n",
       "      <td>1</td>\n",
       "      <td>2</td>\n",
       "      <td>2</td>\n",
       "    </tr>\n",
       "    <tr>\n",
       "      <th>savings_new</th>\n",
       "      <td>1</td>\n",
       "      <td>2</td>\n",
       "      <td>2</td>\n",
       "      <td>2</td>\n",
       "      <td>2</td>\n",
       "    </tr>\n",
       "    <tr>\n",
       "      <th>employment_new</th>\n",
       "      <td>5</td>\n",
       "      <td>3</td>\n",
       "      <td>4</td>\n",
       "      <td>4</td>\n",
       "      <td>3</td>\n",
       "    </tr>\n",
       "    <tr>\n",
       "      <th>debtors_new</th>\n",
       "      <td>0</td>\n",
       "      <td>0</td>\n",
       "      <td>0</td>\n",
       "      <td>1</td>\n",
       "      <td>0</td>\n",
       "    </tr>\n",
       "    <tr>\n",
       "      <th>other_plans</th>\n",
       "      <td>0</td>\n",
       "      <td>0</td>\n",
       "      <td>0</td>\n",
       "      <td>0</td>\n",
       "      <td>0</td>\n",
       "    </tr>\n",
       "    <tr>\n",
       "      <th>Housing_new</th>\n",
       "      <td>1</td>\n",
       "      <td>1</td>\n",
       "      <td>1</td>\n",
       "      <td>0</td>\n",
       "      <td>0</td>\n",
       "    </tr>\n",
       "    <tr>\n",
       "      <th>risk</th>\n",
       "      <td>1</td>\n",
       "      <td>0</td>\n",
       "      <td>1</td>\n",
       "      <td>1</td>\n",
       "      <td>0</td>\n",
       "    </tr>\n",
       "  </tbody>\n",
       "</table>\n",
       "</div>"
      ],
      "text/plain": [
       "                                                                           0  \\\n",
       "credit_hist_critical account/other credits existing (not at this bank)     1   \n",
       "credit_hist_delay in paying off in the past                                0   \n",
       "credit_hist_existing credits paid back duly till now                       0   \n",
       "credit_hist_no credits taken/all credits paid back duly                    0   \n",
       "purpose_car(new)                                                           0   \n",
       "purpose_car(used)                                                          0   \n",
       "purpose_domestic appliances                                                0   \n",
       "purpose_education                                                          0   \n",
       "purpose_furniture/equipment                                                0   \n",
       "purpose_others                                                             0   \n",
       "purpose_radio/television                                                   1   \n",
       "purpose_repairs                                                            0   \n",
       "purpose_retraining                                                         0   \n",
       "Job_skilled employee / official                                            1   \n",
       "Job_unemployed/ unskilled  - non-resident                                  0   \n",
       "Job_unskilled - resident                                                   0   \n",
       "Sex_male                                                                   1   \n",
       "duration                                                                   6   \n",
       "credit_amount                                                           1169   \n",
       "installment_rate                                                           4   \n",
       "Present residence since                                                    4   \n",
       "Age                                                                       67   \n",
       "Number of existing credits at this bank                                    2   \n",
       "dependents                                                                 1   \n",
       "status_new                                                                 2   \n",
       "savings_new                                                                1   \n",
       "employment_new                                                             5   \n",
       "debtors_new                                                                0   \n",
       "other_plans                                                                0   \n",
       "Housing_new                                                                1   \n",
       "risk                                                                       1   \n",
       "\n",
       "                                                                           1  \\\n",
       "credit_hist_critical account/other credits existing (not at this bank)     0   \n",
       "credit_hist_delay in paying off in the past                                0   \n",
       "credit_hist_existing credits paid back duly till now                       1   \n",
       "credit_hist_no credits taken/all credits paid back duly                    0   \n",
       "purpose_car(new)                                                           0   \n",
       "purpose_car(used)                                                          0   \n",
       "purpose_domestic appliances                                                0   \n",
       "purpose_education                                                          0   \n",
       "purpose_furniture/equipment                                                0   \n",
       "purpose_others                                                             0   \n",
       "purpose_radio/television                                                   1   \n",
       "purpose_repairs                                                            0   \n",
       "purpose_retraining                                                         0   \n",
       "Job_skilled employee / official                                            1   \n",
       "Job_unemployed/ unskilled  - non-resident                                  0   \n",
       "Job_unskilled - resident                                                   0   \n",
       "Sex_male                                                                   0   \n",
       "duration                                                                  48   \n",
       "credit_amount                                                           5951   \n",
       "installment_rate                                                           2   \n",
       "Present residence since                                                    2   \n",
       "Age                                                                       22   \n",
       "Number of existing credits at this bank                                    1   \n",
       "dependents                                                                 1   \n",
       "status_new                                                                 3   \n",
       "savings_new                                                                2   \n",
       "employment_new                                                             3   \n",
       "debtors_new                                                                0   \n",
       "other_plans                                                                0   \n",
       "Housing_new                                                                1   \n",
       "risk                                                                       0   \n",
       "\n",
       "                                                                           2  \\\n",
       "credit_hist_critical account/other credits existing (not at this bank)     1   \n",
       "credit_hist_delay in paying off in the past                                0   \n",
       "credit_hist_existing credits paid back duly till now                       0   \n",
       "credit_hist_no credits taken/all credits paid back duly                    0   \n",
       "purpose_car(new)                                                           0   \n",
       "purpose_car(used)                                                          0   \n",
       "purpose_domestic appliances                                                0   \n",
       "purpose_education                                                          1   \n",
       "purpose_furniture/equipment                                                0   \n",
       "purpose_others                                                             0   \n",
       "purpose_radio/television                                                   0   \n",
       "purpose_repairs                                                            0   \n",
       "purpose_retraining                                                         0   \n",
       "Job_skilled employee / official                                            0   \n",
       "Job_unemployed/ unskilled  - non-resident                                  0   \n",
       "Job_unskilled - resident                                                   1   \n",
       "Sex_male                                                                   1   \n",
       "duration                                                                  12   \n",
       "credit_amount                                                           2096   \n",
       "installment_rate                                                           2   \n",
       "Present residence since                                                    3   \n",
       "Age                                                                       49   \n",
       "Number of existing credits at this bank                                    1   \n",
       "dependents                                                                 2   \n",
       "status_new                                                                 1   \n",
       "savings_new                                                                2   \n",
       "employment_new                                                             4   \n",
       "debtors_new                                                                0   \n",
       "other_plans                                                                0   \n",
       "Housing_new                                                                1   \n",
       "risk                                                                       1   \n",
       "\n",
       "                                                                           3  \\\n",
       "credit_hist_critical account/other credits existing (not at this bank)     0   \n",
       "credit_hist_delay in paying off in the past                                0   \n",
       "credit_hist_existing credits paid back duly till now                       1   \n",
       "credit_hist_no credits taken/all credits paid back duly                    0   \n",
       "purpose_car(new)                                                           0   \n",
       "purpose_car(used)                                                          0   \n",
       "purpose_domestic appliances                                                0   \n",
       "purpose_education                                                          0   \n",
       "purpose_furniture/equipment                                                1   \n",
       "purpose_others                                                             0   \n",
       "purpose_radio/television                                                   0   \n",
       "purpose_repairs                                                            0   \n",
       "purpose_retraining                                                         0   \n",
       "Job_skilled employee / official                                            1   \n",
       "Job_unemployed/ unskilled  - non-resident                                  0   \n",
       "Job_unskilled - resident                                                   0   \n",
       "Sex_male                                                                   1   \n",
       "duration                                                                  42   \n",
       "credit_amount                                                           7882   \n",
       "installment_rate                                                           2   \n",
       "Present residence since                                                    4   \n",
       "Age                                                                       45   \n",
       "Number of existing credits at this bank                                    1   \n",
       "dependents                                                                 2   \n",
       "status_new                                                                 2   \n",
       "savings_new                                                                2   \n",
       "employment_new                                                             4   \n",
       "debtors_new                                                                1   \n",
       "other_plans                                                                0   \n",
       "Housing_new                                                                0   \n",
       "risk                                                                       1   \n",
       "\n",
       "                                                                           4  \n",
       "credit_hist_critical account/other credits existing (not at this bank)     0  \n",
       "credit_hist_delay in paying off in the past                                1  \n",
       "credit_hist_existing credits paid back duly till now                       0  \n",
       "credit_hist_no credits taken/all credits paid back duly                    0  \n",
       "purpose_car(new)                                                           1  \n",
       "purpose_car(used)                                                          0  \n",
       "purpose_domestic appliances                                                0  \n",
       "purpose_education                                                          0  \n",
       "purpose_furniture/equipment                                                0  \n",
       "purpose_others                                                             0  \n",
       "purpose_radio/television                                                   0  \n",
       "purpose_repairs                                                            0  \n",
       "purpose_retraining                                                         0  \n",
       "Job_skilled employee / official                                            1  \n",
       "Job_unemployed/ unskilled  - non-resident                                  0  \n",
       "Job_unskilled - resident                                                   0  \n",
       "Sex_male                                                                   1  \n",
       "duration                                                                  24  \n",
       "credit_amount                                                           4870  \n",
       "installment_rate                                                           3  \n",
       "Present residence since                                                    4  \n",
       "Age                                                                       53  \n",
       "Number of existing credits at this bank                                    2  \n",
       "dependents                                                                 2  \n",
       "status_new                                                                 2  \n",
       "savings_new                                                                2  \n",
       "employment_new                                                             3  \n",
       "debtors_new                                                                0  \n",
       "other_plans                                                                0  \n",
       "Housing_new                                                                0  \n",
       "risk                                                                       0  "
      ]
     },
     "execution_count": 39,
     "metadata": {},
     "output_type": "execute_result"
    }
   ],
   "source": [
    "cat = ['credit_hist', 'purpose', 'Job', 'Sex']\n",
    "other = ['duration', 'credit_amount',  'installment_rate', 'Present residence since', 'Age', \n",
    "        'Number of existing credits at this bank', 'dependents', 'status_new', 'savings_new', 'employment_new',\n",
    "        'debtors_new', 'other_plans', 'Housing_new', 'risk']\n",
    "\n",
    "categorical_df = pd.get_dummies(df[cat], drop_first = True)\n",
    "other_df = df[other]\n",
    "\n",
    "new_df = pd.concat([categorical_df, other_df], axis =1)\n",
    "\n",
    "new_df.head().T"
   ]
  },
  {
   "cell_type": "code",
   "execution_count": 40,
   "metadata": {},
   "outputs": [
    {
     "data": {
      "text/plain": [
       "(1000, 31)"
      ]
     },
     "execution_count": 40,
     "metadata": {},
     "output_type": "execute_result"
    }
   ],
   "source": [
    "new_df.shape"
   ]
  },
  {
   "cell_type": "markdown",
   "metadata": {},
   "source": [
    "# Imbalance data"
   ]
  },
  {
   "cell_type": "code",
   "execution_count": 41,
   "metadata": {},
   "outputs": [
    {
     "data": {
      "text/plain": [
       "1    0.7\n",
       "0    0.3\n",
       "Name: risk, dtype: float64"
      ]
     },
     "execution_count": 41,
     "metadata": {},
     "output_type": "execute_result"
    }
   ],
   "source": [
    "new_df.risk.value_counts(1)"
   ]
  },
  {
   "cell_type": "markdown",
   "metadata": {},
   "source": [
    "70% of the loan applications are good risk, while 30% are bad.\n",
    "\n",
    "There are many approaches to handle imbalance data. Few popular ones among them are,\n",
    "\n",
    "- Random Under-Sampling: randomly eliminates majority class instances\n",
    "- Random Over-Sampling: increases the number of instances in the minority class by randomly replicating them\n",
    "- Cluster-Based Over Sampling: K-means clustering algorithm is independently applied to minority and majority class instances. Each cluster is oversampled such that all classes have the same size.\n",
    "\n",
    "- Synthetic Minority Oversampling Algorithm (SMOTE): A subset of data from minority class is taken and then new synthetic similar instances are added to the original dataset.\n",
    "- Modified synthetic minority oversampling technique (MSMOTE)\n",
    "\n",
    "I will focus on only random under-sampling, random over-sampling, and SMOTE here."
   ]
  },
  {
   "cell_type": "markdown",
   "metadata": {},
   "source": [
    "# Split Train/Test Set\n",
    "***"
   ]
  },
  {
   "cell_type": "code",
   "execution_count": 42,
   "metadata": {},
   "outputs": [],
   "source": [
    "from sklearn.model_selection import train_test_split\n",
    "from sklearn.metrics import accuracy_score, classification_report, precision_score, recall_score, confusion_matrix, precision_recall_curve\n",
    "\n",
    "X = new_df.drop('risk', axis =1)\n",
    "y = new_df['risk']\n",
    "\n",
    "X_train, X_test, y_train, y_test = train_test_split(X,y,test_size=0.3, random_state=123, stratify=y)"
   ]
  },
  {
   "cell_type": "code",
   "execution_count": 43,
   "metadata": {},
   "outputs": [
    {
     "data": {
      "text/plain": [
       "(700, 30)"
      ]
     },
     "execution_count": 43,
     "metadata": {},
     "output_type": "execute_result"
    }
   ],
   "source": [
    "X_train.shape"
   ]
  },
  {
   "cell_type": "code",
   "execution_count": 44,
   "metadata": {},
   "outputs": [
    {
     "name": "stdout",
     "output_type": "stream",
     "text": [
      "Original shape: (700, 30) (700,)\n",
      "Oversampled shape: (980, 30) (980,)\n",
      "Undersampled shape: (420, 30) (420,)\n",
      "SMOTE sample shape: (980, 30) (980,)\n"
     ]
    }
   ],
   "source": [
    "from sklearn.utils import resample\n",
    "from imblearn.over_sampling import SMOTE\n",
    "\n",
    "# upsample minority classs\n",
    "X_train_over, y_train_over = resample(X_train[y_train ==0], \n",
    "                                 y_train[y_train ==0],\n",
    "                                 replace = True,\n",
    "                                 n_samples = X_train[y_train==1].shape[0],\n",
    "                                 random_state =123) \n",
    "X_train_over = np.concatenate((X_train[y_train==1], X_train_over))\n",
    "y_train_over = np.concatenate((y_train[y_train==1], y_train_over))\n",
    "\n",
    "# downsample majority class\n",
    "X_train_under, y_train_under = resample(X_train[y_train ==1], \n",
    "                                 y_train[y_train ==1],\n",
    "                                 replace = True,\n",
    "                                 n_samples = X_train[y_train==0].shape[0],\n",
    "                                 random_state =123) \n",
    "X_train_under = np.concatenate((X_train[y_train==0], X_train_under))\n",
    "y_train_under = np.concatenate((y_train[y_train==0], y_train_under))\n",
    "\n",
    "# using SMOTE\n",
    "s = SMOTE(random_state =123)\n",
    "X_train_s, y_train_s = s.fit_sample(X_train, y_train)\n",
    "\n",
    "print('Original shape:', X_train.shape, y_train.shape)\n",
    "print('Oversampled shape:', X_train_over.shape, y_train_over.shape)\n",
    "print('Undersampled shape:', X_train_under.shape, y_train_under.shape)\n",
    "print('SMOTE sample shape:', X_train_s.shape, y_train_s.shape)\n",
    "\n"
   ]
  },
  {
   "cell_type": "markdown",
   "metadata": {},
   "source": [
    "# Modeling\n",
    "***"
   ]
  },
  {
   "cell_type": "markdown",
   "metadata": {},
   "source": [
    "Three machine learning models are used here:\n",
    "\n",
    "    1. Logistic Regression\n",
    "    2. Random Forest Classifier\n",
    "    3. Gradient Boosting Classifier\n",
    "    \n",
    "Logistic regression is used as the baseline model to decide which sampling technique give the best results. "
   ]
  },
  {
   "cell_type": "markdown",
   "metadata": {},
   "source": [
    "### Logistic Regression"
   ]
  },
  {
   "cell_type": "code",
   "execution_count": 45,
   "metadata": {},
   "outputs": [
    {
     "name": "stdout",
     "output_type": "stream",
     "text": [
      "-----Logistic Regression Model with Original data-----\n",
      "Logistic Regression AUC =  0.573015873015873\n",
      "              precision    recall  f1-score   support\n",
      "\n",
      "           0       0.50      0.26      0.34        90\n",
      "           1       0.74      0.89      0.81       210\n",
      "\n",
      "    accuracy                           0.70       300\n",
      "   macro avg       0.62      0.57      0.57       300\n",
      "weighted avg       0.67      0.70      0.67       300\n",
      "\n",
      "-----Logistic Regression Model with SMOTE-----\n",
      "Logistic Regression AUC =  0.6015873015873017\n",
      "              precision    recall  f1-score   support\n",
      "\n",
      "           0       0.50      0.36      0.42        90\n",
      "           1       0.75      0.85      0.80       210\n",
      "\n",
      "    accuracy                           0.70       300\n",
      "   macro avg       0.63      0.60      0.61       300\n",
      "weighted avg       0.68      0.70      0.68       300\n",
      "\n",
      "-----Logistic Regression Model with Under-sampling-----\n",
      "Logistic Regression AUC =  0.6690476190476191\n",
      "              precision    recall  f1-score   support\n",
      "\n",
      "           0       0.47      0.67      0.55        90\n",
      "           1       0.82      0.67      0.74       210\n",
      "\n",
      "    accuracy                           0.67       300\n",
      "   macro avg       0.64      0.67      0.64       300\n",
      "weighted avg       0.72      0.67      0.68       300\n",
      "\n",
      "-----Logistic Regression Model with Over-sampling-----\n",
      "Logistic Regression AUC =  0.6404761904761904\n",
      "              precision    recall  f1-score   support\n",
      "\n",
      "           0       0.45      0.60      0.51        90\n",
      "           1       0.80      0.68      0.74       210\n",
      "\n",
      "    accuracy                           0.66       300\n",
      "   macro avg       0.62      0.64      0.62       300\n",
      "weighted avg       0.69      0.66      0.67       300\n",
      "\n"
     ]
    },
    {
     "name": "stderr",
     "output_type": "stream",
     "text": [
      "C:\\Users\\waruni\\Anaconda3\\lib\\site-packages\\sklearn\\base.py:443: UserWarning: X has feature names, but StandardScaler was fitted without feature names\n",
      "  warnings.warn(\n",
      "C:\\Users\\waruni\\Anaconda3\\lib\\site-packages\\sklearn\\base.py:443: UserWarning: X has feature names, but StandardScaler was fitted without feature names\n",
      "  warnings.warn(\n",
      "C:\\Users\\waruni\\Anaconda3\\lib\\site-packages\\sklearn\\base.py:443: UserWarning: X has feature names, but StandardScaler was fitted without feature names\n",
      "  warnings.warn(\n",
      "C:\\Users\\waruni\\Anaconda3\\lib\\site-packages\\sklearn\\base.py:443: UserWarning: X has feature names, but StandardScaler was fitted without feature names\n",
      "  warnings.warn(\n"
     ]
    }
   ],
   "source": [
    "from sklearn.linear_model import LogisticRegression\n",
    "from sklearn.metrics import roc_auc_score\n",
    "from sklearn.metrics import accuracy_score\n",
    "from sklearn.pipeline import make_pipeline\n",
    "from sklearn.preprocessing import StandardScaler\n",
    "\n",
    "\n",
    "#lr = LogisticRegression(max_iter =1000)\n",
    "\n",
    "\n",
    "pipe = make_pipeline(StandardScaler(), LogisticRegression())\n",
    "# apply scaling on training data\n",
    "lr = pipe.fit(X_train, y_train)  \n",
    "print(\"-----Logistic Regression Model with Original data-----\")\n",
    "lr_auc = roc_auc_score(y_test, lr.predict(X_test))\n",
    "\n",
    "print(\"Logistic Regression AUC = \", lr_auc)\n",
    "print(classification_report(y_test, lr.predict(X_test)))\n",
    "\n",
    "\n",
    "# Logistic Regression with SMOTE\n",
    "lr = pipe.fit(X_train_s, y_train_s)\n",
    "print(\"-----Logistic Regression Model with SMOTE-----\")\n",
    "lr_auc = roc_auc_score(y_test, lr.predict(X_test))\n",
    "\n",
    "print(\"Logistic Regression AUC = \", lr_auc)\n",
    "print(classification_report(y_test, lr.predict(X_test)))\n",
    "\n",
    "# Logistic REgression with Under-sampling\n",
    "lr = pipe.fit(X_train_under, y_train_under)\n",
    "print(\"-----Logistic Regression Model with Under-sampling-----\")\n",
    "lr_auc = roc_auc_score(y_test, lr.predict(X_test))\n",
    "\n",
    "print(\"Logistic Regression AUC = \", lr_auc)\n",
    "print(classification_report(y_test, lr.predict(X_test)))\n",
    "\n",
    "# Logistic REgression with Over-sampling\n",
    "lr = pipe.fit(X_train_over, y_train_over)\n",
    "print(\"-----Logistic Regression Model with Over-sampling-----\")\n",
    "lr_auc = roc_auc_score(y_test, lr.predict(X_test))\n",
    "\n",
    "print(\"Logistic Regression AUC = \", lr_auc)\n",
    "print(classification_report(y_test, lr.predict(X_test)))\n"
   ]
  },
  {
   "cell_type": "code",
   "execution_count": 46,
   "metadata": {},
   "outputs": [
    {
     "name": "stdout",
     "output_type": "stream",
     "text": [
      "The best F1 score for orginal data:\n",
      "0.818938898994304\n",
      "The best F1 score for Under-sample data:\n",
      "0.6937701538967361\n",
      "The best F1 score for Over-sample data:\n",
      "0.6840074740074741\n",
      "The best F1 score for SMOTE data:\n",
      "0.7944796685387812\n"
     ]
    }
   ],
   "source": [
    "from sklearn.model_selection import cross_val_score\n",
    "from sklearn.pipeline import make_pipeline\n",
    "from sklearn.preprocessing import StandardScaler\n",
    "\n",
    "Original_result = cross_val_score(pipe, X_train, y_train, cv=5, scoring = 'f1' )\n",
    "UnderSample_result = cross_val_score(pipe, X_train_under, y_train_under, cv=5, scoring = 'f1' )\n",
    "OverSample_result = cross_val_score(pipe, X_train_over, y_train_over, cv=5, scoring = 'f1' )\n",
    "SMOTE_result = cross_val_score(pipe, X_train_s, y_train_s, cv=5, scoring = 'f1' )\n",
    "\n",
    "print(f\"The best F1 score for orginal data:\")\n",
    "print(Original_result.mean())\n",
    "\n",
    "print(f\"The best F1 score for Under-sample data:\")\n",
    "print(UnderSample_result.mean())\n",
    "\n",
    "print(f\"The best F1 score for Over-sample data:\")\n",
    "print(OverSample_result.mean())\n",
    "\n",
    "print(f\"The best F1 score for SMOTE data:\")\n",
    "print(SMOTE_result.mean())"
   ]
  },
  {
   "cell_type": "markdown",
   "metadata": {},
   "source": [
    "Original dataset gives the best F1 score. "
   ]
  },
  {
   "cell_type": "code",
   "execution_count": 47,
   "metadata": {},
   "outputs": [
    {
     "name": "stdout",
     "output_type": "stream",
     "text": [
      "-----Logistic Regression Model with Original data-----\n",
      "Logistic Regression AUC =  0.6000000000000001\n",
      "              precision    recall  f1-score   support\n",
      "\n",
      "           0       0.56      0.30      0.39        90\n",
      "           1       0.75      0.90      0.82       210\n",
      "\n",
      "    accuracy                           0.72       300\n",
      "   macro avg       0.66      0.60      0.60       300\n",
      "weighted avg       0.69      0.72      0.69       300\n",
      "\n"
     ]
    }
   ],
   "source": [
    "#fitting Logistic regression with no standardization\n",
    "lr = LogisticRegression(max_iter =1000)\n",
    "lr = lr.fit(X_train, y_train)  \n",
    "print(\"-----Logistic Regression Model with Original data-----\")\n",
    "lr_auc = roc_auc_score(y_test, lr.predict(X_test))\n",
    "\n",
    "print(\"Logistic Regression AUC = \", lr_auc)\n",
    "print(classification_report(y_test, lr.predict(X_test)))\n"
   ]
  },
  {
   "cell_type": "markdown",
   "metadata": {},
   "source": [
    "### Random Forest Classifier"
   ]
  },
  {
   "cell_type": "code",
   "execution_count": 48,
   "metadata": {},
   "outputs": [
    {
     "data": {
      "text/plain": [
       "0.8264918846154854"
      ]
     },
     "execution_count": 48,
     "metadata": {},
     "output_type": "execute_result"
    }
   ],
   "source": [
    "from sklearn.ensemble import RandomForestClassifier\n",
    "from sklearn.model_selection import cross_val_score\n",
    "\n",
    "RF = RandomForestClassifier()\n",
    "\n",
    "RF_result = cross_val_score(RF, X_train, y_train, cv=5, scoring = 'f1' )\n",
    "RF_result.mean()"
   ]
  },
  {
   "cell_type": "code",
   "execution_count": 49,
   "metadata": {},
   "outputs": [
    {
     "name": "stdout",
     "output_type": "stream",
     "text": [
      "-----Random Forest Classifier with Under-sampling-----\n",
      "Random Forest AUC =  0.6476190476190476\n",
      "              precision    recall  f1-score   support\n",
      "\n",
      "           0       0.62      0.40      0.49        90\n",
      "           1       0.78      0.90      0.83       210\n",
      "\n",
      "    accuracy                           0.75       300\n",
      "   macro avg       0.70      0.65      0.66       300\n",
      "weighted avg       0.73      0.75      0.73       300\n",
      "\n"
     ]
    }
   ],
   "source": [
    "RF = RF.fit(X_train, y_train)\n",
    "\n",
    "print(\"-----Random Forest Classifier with Under-sampling-----\")\n",
    "RF_auc = roc_auc_score(y_test, RF.predict(X_test))\n",
    "\n",
    "print(\"Random Forest AUC = \", RF_auc)\n",
    "print(classification_report(y_test, RF.predict(X_test)))\n"
   ]
  },
  {
   "cell_type": "markdown",
   "metadata": {},
   "source": [
    "### Gradient Boosting Classifier"
   ]
  },
  {
   "cell_type": "code",
   "execution_count": 50,
   "metadata": {},
   "outputs": [
    {
     "data": {
      "text/plain": [
       "0.825212005413644"
      ]
     },
     "execution_count": 50,
     "metadata": {},
     "output_type": "execute_result"
    }
   ],
   "source": [
    "from sklearn.ensemble import GradientBoostingClassifier\n",
    "\n",
    "GB = GradientBoostingClassifier()\n",
    "GB = GB.fit(X_train, y_train)\n",
    "\n",
    "GB_result = cross_val_score(GB, X_train, y_train, cv=5, scoring = 'f1' )\n",
    "GB_result.mean()"
   ]
  },
  {
   "cell_type": "code",
   "execution_count": 51,
   "metadata": {},
   "outputs": [
    {
     "name": "stdout",
     "output_type": "stream",
     "text": [
      "-----Gradient Boosting Classifier with Under-sampling-----\n",
      "Gradient Boosting AUC =  0.6642857142857144\n",
      "              precision    recall  f1-score   support\n",
      "\n",
      "           0       0.64      0.43      0.52        90\n",
      "           1       0.79      0.90      0.84       210\n",
      "\n",
      "    accuracy                           0.76       300\n",
      "   macro avg       0.71      0.66      0.68       300\n",
      "weighted avg       0.74      0.76      0.74       300\n",
      "\n"
     ]
    }
   ],
   "source": [
    "GB = GB.fit(X_train, y_train)\n",
    "\n",
    "print(\"-----Gradient Boosting Classifier with Under-sampling-----\")\n",
    "GB_auc = roc_auc_score(y_test, GB.predict(X_test))\n",
    "\n",
    "print(\"Gradient Boosting AUC = \", GB_auc)\n",
    "print(classification_report(y_test, GB.predict(X_test)))"
   ]
  },
  {
   "cell_type": "markdown",
   "metadata": {},
   "source": [
    "### CatBoost Algorithm"
   ]
  },
  {
   "cell_type": "code",
   "execution_count": 52,
   "metadata": {},
   "outputs": [],
   "source": [
    "df1['Risk'] = df1.Risk.replace(['good', 'bad'], [1, 0])"
   ]
  },
  {
   "cell_type": "code",
   "execution_count": 53,
   "metadata": {},
   "outputs": [
    {
     "data": {
      "text/plain": [
       "Index(['status', 'duration', 'credit_hist', 'purpose', 'credit_amount',\n",
       "       'savings account/bonds', 'present employment', 'installment_rate',\n",
       "       'Other debtors / guarantors', 'Present residence since', 'Age',\n",
       "       'Other installment plans', 'Housing',\n",
       "       'Number of existing credits at this bank', 'Job', 'dependents', 'Risk',\n",
       "       'Sex'],\n",
       "      dtype='object')"
      ]
     },
     "execution_count": 53,
     "metadata": {},
     "output_type": "execute_result"
    }
   ],
   "source": [
    "df1.columns"
   ]
  },
  {
   "cell_type": "code",
   "execution_count": 54,
   "metadata": {},
   "outputs": [],
   "source": [
    "from catboost import CatBoostClassifier, Pool\n",
    "from sklearn.model_selection import RandomizedSearchCV\n",
    "from scipy.stats import randint\n",
    "\n",
    "cb = CatBoostClassifier(random_state=432, learning_rate=0.4)\n",
    "\n",
    "X = df1.drop(columns='Risk', axis=1)\n",
    "y = df1['Risk']\n",
    "\n",
    "X_train_cb, X_test_cb, y_train_cb, y_test_cb = train_test_split(X, y, test_size= 0.3, random_state= 123, stratify = y)\n",
    "\n",
    "pool_train = Pool(X_train_cb, y_train_cb, cat_features = ['status', 'credit_hist', 'purpose', \n",
    "                                                    'savings account/bonds', 'present employment', \n",
    "                                                    'Other debtors / guarantors', 'Other installment plans', 'Housing',\n",
    "                                                    'Job','Sex'])\n",
    "pool_test = Pool(X_test_cb, cat_features = ['status', 'credit_hist', 'purpose', \n",
    "                                                    'savings account/bonds', 'present employment', \n",
    "                                                    'Other debtors / guarantors', 'Other installment plans', 'Housing',\n",
    "                                                    'Job','Sex'])\n"
   ]
  },
  {
   "cell_type": "code",
   "execution_count": 55,
   "metadata": {},
   "outputs": [
    {
     "name": "stdout",
     "output_type": "stream",
     "text": [
      "0:\tlearn: 0.5677433\ttest: 0.5915009\tbest: 0.5915009 (0)\ttotal: 197ms\tremaining: 3m 16s\n",
      "1:\tlearn: 0.5112693\ttest: 0.5575438\tbest: 0.5575438 (1)\ttotal: 249ms\tremaining: 2m 4s\n",
      "2:\tlearn: 0.4768221\ttest: 0.5416634\tbest: 0.5416634 (2)\ttotal: 305ms\tremaining: 1m 41s\n",
      "3:\tlearn: 0.4604286\ttest: 0.5402652\tbest: 0.5402652 (3)\ttotal: 359ms\tremaining: 1m 29s\n",
      "4:\tlearn: 0.4392870\ttest: 0.5327878\tbest: 0.5327878 (4)\ttotal: 412ms\tremaining: 1m 21s\n",
      "5:\tlearn: 0.4280355\ttest: 0.5308011\tbest: 0.5308011 (5)\ttotal: 473ms\tremaining: 1m 18s\n",
      "6:\tlearn: 0.4199959\ttest: 0.5280194\tbest: 0.5280194 (6)\ttotal: 527ms\tremaining: 1m 14s\n",
      "7:\tlearn: 0.4064558\ttest: 0.5285750\tbest: 0.5280194 (6)\ttotal: 575ms\tremaining: 1m 11s\n",
      "8:\tlearn: 0.3815640\ttest: 0.5323201\tbest: 0.5280194 (6)\ttotal: 627ms\tremaining: 1m 9s\n",
      "9:\tlearn: 0.3663126\ttest: 0.5256439\tbest: 0.5256439 (9)\ttotal: 699ms\tremaining: 1m 9s\n",
      "10:\tlearn: 0.3661981\ttest: 0.5255923\tbest: 0.5255923 (10)\ttotal: 738ms\tremaining: 1m 6s\n",
      "11:\tlearn: 0.3626384\ttest: 0.5244509\tbest: 0.5244509 (11)\ttotal: 839ms\tremaining: 1m 9s\n",
      "12:\tlearn: 0.3488487\ttest: 0.5231666\tbest: 0.5231666 (12)\ttotal: 929ms\tremaining: 1m 10s\n",
      "13:\tlearn: 0.3313534\ttest: 0.5303717\tbest: 0.5231666 (12)\ttotal: 990ms\tremaining: 1m 9s\n",
      "14:\tlearn: 0.3313439\ttest: 0.5302888\tbest: 0.5231666 (12)\ttotal: 1.01s\tremaining: 1m 6s\n",
      "15:\tlearn: 0.3185584\ttest: 0.5371677\tbest: 0.5231666 (12)\ttotal: 1.07s\tremaining: 1m 5s\n",
      "16:\tlearn: 0.3174546\ttest: 0.5332157\tbest: 0.5231666 (12)\ttotal: 1.13s\tremaining: 1m 5s\n",
      "17:\tlearn: 0.3132046\ttest: 0.5316812\tbest: 0.5231666 (12)\ttotal: 1.18s\tremaining: 1m 4s\n",
      "18:\tlearn: 0.3067735\ttest: 0.5239403\tbest: 0.5231666 (12)\ttotal: 1.25s\tremaining: 1m 4s\n",
      "19:\tlearn: 0.2979221\ttest: 0.5254198\tbest: 0.5231666 (12)\ttotal: 1.32s\tremaining: 1m 4s\n",
      "20:\tlearn: 0.2979219\ttest: 0.5254149\tbest: 0.5231666 (12)\ttotal: 1.36s\tremaining: 1m 3s\n",
      "21:\tlearn: 0.2883646\ttest: 0.5339548\tbest: 0.5231666 (12)\ttotal: 1.47s\tremaining: 1m 5s\n",
      "22:\tlearn: 0.2749082\ttest: 0.5301422\tbest: 0.5231666 (12)\ttotal: 1.52s\tremaining: 1m 4s\n",
      "Stopped by overfitting detector  (10 iterations wait)\n",
      "\n",
      "bestTest = 0.5231665559\n",
      "bestIteration = 12\n",
      "\n",
      "Shrink model to first 13 iterations.\n",
      "CatBoost AUC = 0.75\n",
      "              precision    recall  f1-score   support\n",
      "\n",
      "           0       0.58      0.32      0.41        90\n",
      "           1       0.76      0.90      0.82       210\n",
      "\n",
      "    accuracy                           0.73       300\n",
      "   macro avg       0.67      0.61      0.62       300\n",
      "weighted avg       0.70      0.73      0.70       300\n",
      "\n",
      "Accuracy_score of CatBoost:  0.7266666666666667\n"
     ]
    }
   ],
   "source": [
    "from sklearn import metrics\n",
    "\n",
    "cb.fit(pool_train, eval_set=(X_test_cb, y_test_cb), use_best_model=True, early_stopping_rounds=10)\n",
    "pred_cb = cb.predict(pool_test)\n",
    "y_pred_prob_cb = cb.predict_proba(X_test_cb)[:, 1]\n",
    "\n",
    "\n",
    "cb_auc = metrics.roc_auc_score(y_test_cb, y_pred_prob_cb)\n",
    "\n",
    "print(\"CatBoost AUC = %2.2f\" % cb_auc)\n",
    "print(classification_report(y_test_cb, cb.predict(X_test_cb), digits=2))\n",
    "\n",
    "score_cb = accuracy_score(y_test_cb, cb.predict(X_test_cb))\n",
    "\n",
    "print(\"Accuracy_score of CatBoost: \",accuracy_score(y_test_cb, cb.predict(X_test_cb)))\n"
   ]
  },
  {
   "cell_type": "code",
   "execution_count": 56,
   "metadata": {},
   "outputs": [
    {
     "data": {
      "image/png": "[encoded data removed]",
      "text/plain": [
       "<Figure size 720x576 with 1 Axes>"
      ]
     },
     "metadata": {},
     "output_type": "display_data"
    }
   ],
   "source": [
    "# create ROC graph\n",
    "from sklearn.metrics import roc_curve\n",
    "\n",
    "fpr, tpr, thresholds = roc_curve(y_test, lr.predict_proba(X_test)[:,1])\n",
    "rf_fpr, rf_tpr, rf_thresholds = roc_curve(y_test, RF.predict_proba(X_test)[:,1])\n",
    "gb_fpr, gb_tpr, gb_thresholds = roc_curve(y_test, GB.predict_proba(X_test)[:,1])\n",
    "cb_fpr, cb_tpr, cb_thresholds = roc_curve(y_test, cb.predict_proba(X_test_cb)[:,1])\n",
    "\n",
    "plt.figure(figsize = (10,8))\n",
    "\n",
    "# plot Logistic Regression ROC\n",
    "plt.plot(fpr,tpr, label = 'Logistic Regression (area = %0.2f)' % lr_auc)\n",
    "\n",
    "# plot Random Forest ROC\n",
    "plt.plot(rf_fpr,rf_tpr, label = 'Random Forest Classifier (area = %0.2f)' % RF_auc)\n",
    "\n",
    "# plot Gradient Boosting ROC\n",
    "plt.plot(gb_fpr,gb_tpr, label = 'Gradient Boosting Classifier (area = %0.2f)' % GB_auc)\n",
    "\n",
    "# plot catBoost ROC\n",
    "plt.plot(cb_fpr,cb_tpr, label = 'CatBoost Classifier (area = %0.2f)' % cb_auc)\n",
    "\n",
    "# plot base rate ROC\n",
    "plt.plot([0,1], [0,1], label='Base Rate')\n",
    "\n",
    "plt.xlim([0.0, 1.0])\n",
    "plt.ylim([0.0, 1.0])\n",
    "plt.xlabel('False Positive Rate')\n",
    "plt.ylabel('True Positive Rate')\n",
    "plt.title('ROC Graph')\n",
    "plt.legend(loc = 'lower right')\n",
    "\n",
    "plt.show()"
   ]
  },
  {
   "cell_type": "markdown",
   "metadata": {},
   "source": [
    "CatBoost has the best AUC value compared to other models."
   ]
  },
  {
   "cell_type": "markdown",
   "metadata": {},
   "source": [
    "### Confusion matrix of CatBoost"
   ]
  },
  {
   "cell_type": "code",
   "execution_count": 57,
   "metadata": {},
   "outputs": [
    {
     "data": {
      "text/plain": [
       "array([[ 29,  61],\n",
       "       [ 21, 189]], dtype=int64)"
      ]
     },
     "execution_count": 57,
     "metadata": {},
     "output_type": "execute_result"
    }
   ],
   "source": [
    "from sklearn.metrics import confusion_matrix\n",
    "\n",
    "confusion_matrix(y_test_cb, cb.predict(X_test_cb))"
   ]
  },
  {
   "cell_type": "markdown",
   "metadata": {},
   "source": [
    "<img src=\"confusion_matrix.png\" width=500 height=500 />"
   ]
  },
  {
   "cell_type": "markdown",
   "metadata": {},
   "source": [
    "29 records has been predicted right as true good risk applicants and 189 has been predicted correct as bad risk applicants."
   ]
  }
 ],
 "metadata": {
  "kernelspec": {
   "display_name": "Python 3 (ipykernel)",
   "language": "python",
   "name": "python3"
  },
  "language_info": {
   "codemirror_mode": {
    "name": "ipython",
    "version": 3
   },
   "file_extension": ".py",
   "mimetype": "text/x-python",
   "name": "python",
   "nbconvert_exporter": "python",
   "pygments_lexer": "ipython3",
   "version": "3.9.7"
  }
 },
 "nbformat": 4,
 "nbformat_minor": 4
}
